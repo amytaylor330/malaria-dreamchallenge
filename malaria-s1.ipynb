{
 "cells": [
  {
   "cell_type": "code",
   "execution_count": 12,
   "metadata": {
    "collapsed": true
   },
   "outputs": [],
   "source": [
    "import numpy as np\n",
    "import pandas as pd\n",
    "import matplotlib.pyplot as pl\n",
    "from sklearn.metrics import mean_squared_error\n",
    "from sklearn.model_selection import train_test_split\n",
    "from sklearn.linear_model import LinearRegression\n",
    "from sklearn.ensemble import RandomForestRegressor\n",
    "from sklearn.svm import SVR\n",
    "from lmfit import Model\n",
    "\n",
    "pl.style.use('seaborn')\n",
    "pl.rc('font',family='Arial')"
   ]
  },
  {
   "cell_type": "code",
   "execution_count": 10,
   "metadata": {
    "collapsed": true
   },
   "outputs": [],
   "source": [
    "train_data = pd.read_csv(\"SubCh1_TrainingData.csv\")\n",
    "test_data = pd.read_csv(\"SubCh1_TestData.csv\")"
   ]
  },
  {
   "cell_type": "code",
   "execution_count": 22,
   "metadata": {
    "collapsed": false
   },
   "outputs": [
    {
     "data": {
      "text/html": [
       "<div>\n",
       "<style scoped>\n",
       "    .dataframe tbody tr th:only-of-type {\n",
       "        vertical-align: middle;\n",
       "    }\n",
       "\n",
       "    .dataframe tbody tr th {\n",
       "        vertical-align: top;\n",
       "    }\n",
       "\n",
       "    .dataframe thead th {\n",
       "        text-align: right;\n",
       "    }\n",
       "</style>\n",
       "<table border=\"1\" class=\"dataframe\">\n",
       "  <thead>\n",
       "    <tr style=\"text-align: right;\">\n",
       "      <th></th>\n",
       "      <th>Sample_Name</th>\n",
       "      <th>Isolate</th>\n",
       "      <th>Timepoint</th>\n",
       "      <th>Treatment</th>\n",
       "      <th>BioRep</th>\n",
       "      <th>MAL1.465720.465873.bc..rv..</th>\n",
       "      <th>MAL1.48287.48430....kr...can</th>\n",
       "      <th>MAL1.562126.562246.bc..r...</th>\n",
       "      <th>MAL1.59416.59687....kr...can</th>\n",
       "      <th>MAL1.616633.616682.......y.</th>\n",
       "      <th>...</th>\n",
       "      <th>PF3D7_1479200</th>\n",
       "      <th>PF3D7_1479400</th>\n",
       "      <th>PF3D7_1479500</th>\n",
       "      <th>PF3D7_1479600</th>\n",
       "      <th>PF3D7_1479700</th>\n",
       "      <th>PF3D7_1479800</th>\n",
       "      <th>PF3D7_1479900</th>\n",
       "      <th>PF3D7_1480000</th>\n",
       "      <th>PF3D7_1480100</th>\n",
       "      <th>DHA_IC50</th>\n",
       "    </tr>\n",
       "  </thead>\n",
       "  <tbody>\n",
       "    <tr>\n",
       "      <th>0</th>\n",
       "      <td>isolate_01.24HR.DHA.BRep1</td>\n",
       "      <td>isolate_01</td>\n",
       "      <td>24HR</td>\n",
       "      <td>DHA</td>\n",
       "      <td>BRep1</td>\n",
       "      <td>0.008286</td>\n",
       "      <td>-0.959492</td>\n",
       "      <td>0.206468</td>\n",
       "      <td>-0.443936</td>\n",
       "      <td>0.453030</td>\n",
       "      <td>...</td>\n",
       "      <td>-0.540993</td>\n",
       "      <td>-3.674097</td>\n",
       "      <td>-1.652979</td>\n",
       "      <td>-2.255490</td>\n",
       "      <td>-4.554757</td>\n",
       "      <td>-0.381422</td>\n",
       "      <td>-1.415857</td>\n",
       "      <td>-4.121011</td>\n",
       "      <td>-2.486528</td>\n",
       "      <td>2.177</td>\n",
       "    </tr>\n",
       "    <tr>\n",
       "      <th>1</th>\n",
       "      <td>isolate_01.24HR.DHA.BRep2</td>\n",
       "      <td>isolate_01</td>\n",
       "      <td>24HR</td>\n",
       "      <td>DHA</td>\n",
       "      <td>BRep2</td>\n",
       "      <td>-0.872028</td>\n",
       "      <td>-1.968558</td>\n",
       "      <td>-2.308563</td>\n",
       "      <td>-1.186611</td>\n",
       "      <td>0.508575</td>\n",
       "      <td>...</td>\n",
       "      <td>0.450649</td>\n",
       "      <td>-4.464408</td>\n",
       "      <td>-0.977954</td>\n",
       "      <td>-2.012559</td>\n",
       "      <td>-4.538550</td>\n",
       "      <td>-2.333890</td>\n",
       "      <td>-2.342496</td>\n",
       "      <td>-4.774197</td>\n",
       "      <td>-1.794568</td>\n",
       "      <td>2.177</td>\n",
       "    </tr>\n",
       "    <tr>\n",
       "      <th>2</th>\n",
       "      <td>isolate_01.24HR.UT.BRep1</td>\n",
       "      <td>isolate_01</td>\n",
       "      <td>24HR</td>\n",
       "      <td>UT</td>\n",
       "      <td>BRep1</td>\n",
       "      <td>0.039480</td>\n",
       "      <td>-1.291371</td>\n",
       "      <td>-0.946661</td>\n",
       "      <td>-0.538092</td>\n",
       "      <td>-1.778501</td>\n",
       "      <td>...</td>\n",
       "      <td>1.411557</td>\n",
       "      <td>-5.500522</td>\n",
       "      <td>-1.764229</td>\n",
       "      <td>-1.947208</td>\n",
       "      <td>-5.331037</td>\n",
       "      <td>-0.814417</td>\n",
       "      <td>-2.141285</td>\n",
       "      <td>-3.922684</td>\n",
       "      <td>-2.495169</td>\n",
       "      <td>2.177</td>\n",
       "    </tr>\n",
       "    <tr>\n",
       "      <th>3</th>\n",
       "      <td>isolate_01.24HR.UT.BRep2</td>\n",
       "      <td>isolate_01</td>\n",
       "      <td>24HR</td>\n",
       "      <td>UT</td>\n",
       "      <td>BRep2</td>\n",
       "      <td>0.125177</td>\n",
       "      <td>-1.462758</td>\n",
       "      <td>-1.888105</td>\n",
       "      <td>-0.828352</td>\n",
       "      <td>-1.410803</td>\n",
       "      <td>...</td>\n",
       "      <td>-0.659519</td>\n",
       "      <td>-5.011207</td>\n",
       "      <td>-0.559471</td>\n",
       "      <td>-2.266763</td>\n",
       "      <td>-5.289318</td>\n",
       "      <td>-2.949869</td>\n",
       "      <td>-2.206432</td>\n",
       "      <td>-4.324299</td>\n",
       "      <td>-1.735312</td>\n",
       "      <td>2.177</td>\n",
       "    </tr>\n",
       "    <tr>\n",
       "      <th>4</th>\n",
       "      <td>isolate_01.6HR.DHA.BRep1</td>\n",
       "      <td>isolate_01</td>\n",
       "      <td>6HR</td>\n",
       "      <td>DHA</td>\n",
       "      <td>BRep1</td>\n",
       "      <td>1.354956</td>\n",
       "      <td>-2.139128</td>\n",
       "      <td>-0.541696</td>\n",
       "      <td>-1.481881</td>\n",
       "      <td>-0.735798</td>\n",
       "      <td>...</td>\n",
       "      <td>-1.687048</td>\n",
       "      <td>-4.773306</td>\n",
       "      <td>-0.048847</td>\n",
       "      <td>-2.023727</td>\n",
       "      <td>-4.398358</td>\n",
       "      <td>-3.080500</td>\n",
       "      <td>-0.566545</td>\n",
       "      <td>-4.798190</td>\n",
       "      <td>-0.821690</td>\n",
       "      <td>2.177</td>\n",
       "    </tr>\n",
       "  </tbody>\n",
       "</table>\n",
       "<p>5 rows × 5546 columns</p>\n",
       "</div>"
      ],
      "text/plain": [
       "                 Sample_Name     Isolate Timepoint Treatment BioRep  \\\n",
       "0  isolate_01.24HR.DHA.BRep1  isolate_01      24HR       DHA  BRep1   \n",
       "1  isolate_01.24HR.DHA.BRep2  isolate_01      24HR       DHA  BRep2   \n",
       "2   isolate_01.24HR.UT.BRep1  isolate_01      24HR        UT  BRep1   \n",
       "3   isolate_01.24HR.UT.BRep2  isolate_01      24HR        UT  BRep2   \n",
       "4   isolate_01.6HR.DHA.BRep1  isolate_01       6HR       DHA  BRep1   \n",
       "\n",
       "   MAL1.465720.465873.bc..rv..  MAL1.48287.48430....kr...can  \\\n",
       "0                     0.008286                     -0.959492   \n",
       "1                    -0.872028                     -1.968558   \n",
       "2                     0.039480                     -1.291371   \n",
       "3                     0.125177                     -1.462758   \n",
       "4                     1.354956                     -2.139128   \n",
       "\n",
       "   MAL1.562126.562246.bc..r...  MAL1.59416.59687....kr...can  \\\n",
       "0                     0.206468                     -0.443936   \n",
       "1                    -2.308563                     -1.186611   \n",
       "2                    -0.946661                     -0.538092   \n",
       "3                    -1.888105                     -0.828352   \n",
       "4                    -0.541696                     -1.481881   \n",
       "\n",
       "   MAL1.616633.616682.......y.    ...     PF3D7_1479200  PF3D7_1479400  \\\n",
       "0                     0.453030    ...         -0.540993      -3.674097   \n",
       "1                     0.508575    ...          0.450649      -4.464408   \n",
       "2                    -1.778501    ...          1.411557      -5.500522   \n",
       "3                    -1.410803    ...         -0.659519      -5.011207   \n",
       "4                    -0.735798    ...         -1.687048      -4.773306   \n",
       "\n",
       "   PF3D7_1479500  PF3D7_1479600  PF3D7_1479700  PF3D7_1479800  PF3D7_1479900  \\\n",
       "0      -1.652979      -2.255490      -4.554757      -0.381422      -1.415857   \n",
       "1      -0.977954      -2.012559      -4.538550      -2.333890      -2.342496   \n",
       "2      -1.764229      -1.947208      -5.331037      -0.814417      -2.141285   \n",
       "3      -0.559471      -2.266763      -5.289318      -2.949869      -2.206432   \n",
       "4      -0.048847      -2.023727      -4.398358      -3.080500      -0.566545   \n",
       "\n",
       "   PF3D7_1480000  PF3D7_1480100  DHA_IC50  \n",
       "0      -4.121011      -2.486528     2.177  \n",
       "1      -4.774197      -1.794568     2.177  \n",
       "2      -3.922684      -2.495169     2.177  \n",
       "3      -4.324299      -1.735312     2.177  \n",
       "4      -4.798190      -0.821690     2.177  \n",
       "\n",
       "[5 rows x 5546 columns]"
      ]
     },
     "execution_count": 22,
     "metadata": {},
     "output_type": "execute_result"
    }
   ],
   "source": [
    "train_data.head()"
   ]
  },
  {
   "cell_type": "code",
   "execution_count": 33,
   "metadata": {
    "collapsed": false
   },
   "outputs": [
    {
     "data": {
      "text/plain": [
       "'MAL1.465720.465873.bc..rv..'"
      ]
     },
     "execution_count": 33,
     "metadata": {},
     "output_type": "execute_result"
    }
   ],
   "source": [
    "genes = list(train_data.columns)\n",
    "genes[5]"
   ]
  },
  {
   "cell_type": "code",
   "execution_count": 40,
   "metadata": {
    "collapsed": false
   },
   "outputs": [
    {
     "data": {
      "image/png": "[encoded data removed]",
      "text/plain": [
       "<matplotlib.figure.Figure at 0x117c60c50>"
      ]
     },
     "metadata": {},
     "output_type": "display_data"
    }
   ],
   "source": [
    "sub1 = train_data[(train_data['Timepoint'] == '24HR') & (train_data['Treatment'] == 'DHA') & (train_data['BioRep'] == 'BRep1')]\n",
    "sub2 = train_data[(train_data['Timepoint'] == '24HR') & (train_data['Treatment'] == 'DHA') & (train_data['BioRep'] == 'BRep2')]\n",
    "\n",
    "pl.plot(sub1[genes[9]], sub1['DHA_IC50'],linestyle='none',marker='.')\n",
    "pl.plot(sub2[genes[9]], sub2['DHA_IC50'],linestyle='none',marker='.',c='r')\n",
    "pl.show()"
   ]
  },
  {
   "cell_type": "code",
   "execution_count": 21,
   "metadata": {
    "collapsed": false
   },
   "outputs": [
    {
     "name": "stdout",
     "output_type": "stream",
     "text": [
      "0.865690035901\n"
     ]
    }
   ],
   "source": [
    "X = train_data.drop(['DHA_IC50','Sample_Name','Isolate','Timepoint','Treatment','BioRep'], axis=1)\n",
    "Y = train_data[['DHA_IC50']]\n",
    "X_train, X_test , Y_train , Y_test = train_test_split(X,Y,test_size=0.15,random_state=26)\n",
    "model = RandomForestRegressor(n_estimators=100, max_features=5)\n",
    "model.fit(X_train, Y_train.values.ravel())\n",
    "\n",
    "print(model.score(X_train,Y_train))"
   ]
  }
 ],
 "metadata": {
  "anaconda-cloud": {},
  "kernelspec": {
   "display_name": "Python [conda env:miniconda3]",
   "language": "python",
   "name": "conda-env-miniconda3-py"
  },
  "language_info": {
   "codemirror_mode": {
    "name": "ipython",
    "version": 3
   },
   "file_extension": ".py",
   "mimetype": "text/x-python",
   "name": "python",
   "nbconvert_exporter": "python",
   "pygments_lexer": "ipython3",
   "version": "3.5.2"
  }
 },
 "nbformat": 4,
 "nbformat_minor": 1
}
