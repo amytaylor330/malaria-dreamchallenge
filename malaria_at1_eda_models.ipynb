{
 "cells": [
  {
   "cell_type": "code",
   "execution_count": 1,
   "metadata": {},
   "outputs": [],
   "source": [
    "import numpy as np\n",
    "import pandas as pd\n",
    "import matplotlib.pyplot as plt\n",
    "import seaborn as sns\n",
    "from scipy.stats import spearmanr\n"
   ]
  },
  {
   "cell_type": "markdown",
   "metadata": {},
   "source": [
    "### Explore unmodifed dataset"
   ]
  },
  {
   "cell_type": "code",
   "execution_count": 59,
   "metadata": {},
   "outputs": [
    {
     "name": "stdout",
     "output_type": "stream",
     "text": [
      "(272, 5546)\n"
     ]
    },
    {
     "data": {
      "text/html": [
       "<div>\n",
       "<style scoped>\n",
       "    .dataframe tbody tr th:only-of-type {\n",
       "        vertical-align: middle;\n",
       "    }\n",
       "\n",
       "    .dataframe tbody tr th {\n",
       "        vertical-align: top;\n",
       "    }\n",
       "\n",
       "    .dataframe thead th {\n",
       "        text-align: right;\n",
       "    }\n",
       "</style>\n",
       "<table border=\"1\" class=\"dataframe\">\n",
       "  <thead>\n",
       "    <tr style=\"text-align: right;\">\n",
       "      <th></th>\n",
       "      <th>Sample_Name</th>\n",
       "      <th>Isolate</th>\n",
       "      <th>Timepoint</th>\n",
       "      <th>Treatment</th>\n",
       "      <th>BioRep</th>\n",
       "      <th>MAL1.465720.465873.bc..rv..</th>\n",
       "      <th>MAL1.48287.48430....kr...can</th>\n",
       "      <th>MAL1.562126.562246.bc..r...</th>\n",
       "      <th>MAL1.59416.59687....kr...can</th>\n",
       "      <th>MAL1.616633.616682.......y.</th>\n",
       "      <th>...</th>\n",
       "      <th>PF3D7_1479200</th>\n",
       "      <th>PF3D7_1479400</th>\n",
       "      <th>PF3D7_1479500</th>\n",
       "      <th>PF3D7_1479600</th>\n",
       "      <th>PF3D7_1479700</th>\n",
       "      <th>PF3D7_1479800</th>\n",
       "      <th>PF3D7_1479900</th>\n",
       "      <th>PF3D7_1480000</th>\n",
       "      <th>PF3D7_1480100</th>\n",
       "      <th>DHA_IC50</th>\n",
       "    </tr>\n",
       "  </thead>\n",
       "  <tbody>\n",
       "    <tr>\n",
       "      <th>0</th>\n",
       "      <td>isolate_01.24HR.DHA.BRep1</td>\n",
       "      <td>isolate_01</td>\n",
       "      <td>24HR</td>\n",
       "      <td>DHA</td>\n",
       "      <td>BRep1</td>\n",
       "      <td>0.008286</td>\n",
       "      <td>-0.959492</td>\n",
       "      <td>0.206468</td>\n",
       "      <td>-0.443936</td>\n",
       "      <td>0.453030</td>\n",
       "      <td>...</td>\n",
       "      <td>-0.540993</td>\n",
       "      <td>-3.674097</td>\n",
       "      <td>-1.652979</td>\n",
       "      <td>-2.255490</td>\n",
       "      <td>-4.554757</td>\n",
       "      <td>-0.381422</td>\n",
       "      <td>-1.415857</td>\n",
       "      <td>-4.121011</td>\n",
       "      <td>-2.486528</td>\n",
       "      <td>2.177</td>\n",
       "    </tr>\n",
       "    <tr>\n",
       "      <th>1</th>\n",
       "      <td>isolate_01.24HR.DHA.BRep2</td>\n",
       "      <td>isolate_01</td>\n",
       "      <td>24HR</td>\n",
       "      <td>DHA</td>\n",
       "      <td>BRep2</td>\n",
       "      <td>-0.872028</td>\n",
       "      <td>-1.968558</td>\n",
       "      <td>-2.308563</td>\n",
       "      <td>-1.186611</td>\n",
       "      <td>0.508575</td>\n",
       "      <td>...</td>\n",
       "      <td>0.450649</td>\n",
       "      <td>-4.464408</td>\n",
       "      <td>-0.977954</td>\n",
       "      <td>-2.012559</td>\n",
       "      <td>-4.538550</td>\n",
       "      <td>-2.333890</td>\n",
       "      <td>-2.342496</td>\n",
       "      <td>-4.774197</td>\n",
       "      <td>-1.794568</td>\n",
       "      <td>2.177</td>\n",
       "    </tr>\n",
       "    <tr>\n",
       "      <th>2</th>\n",
       "      <td>isolate_01.24HR.UT.BRep1</td>\n",
       "      <td>isolate_01</td>\n",
       "      <td>24HR</td>\n",
       "      <td>UT</td>\n",
       "      <td>BRep1</td>\n",
       "      <td>0.039480</td>\n",
       "      <td>-1.291371</td>\n",
       "      <td>-0.946661</td>\n",
       "      <td>-0.538092</td>\n",
       "      <td>-1.778501</td>\n",
       "      <td>...</td>\n",
       "      <td>1.411557</td>\n",
       "      <td>-5.500522</td>\n",
       "      <td>-1.764229</td>\n",
       "      <td>-1.947208</td>\n",
       "      <td>-5.331037</td>\n",
       "      <td>-0.814417</td>\n",
       "      <td>-2.141285</td>\n",
       "      <td>-3.922684</td>\n",
       "      <td>-2.495169</td>\n",
       "      <td>2.177</td>\n",
       "    </tr>\n",
       "    <tr>\n",
       "      <th>3</th>\n",
       "      <td>isolate_01.24HR.UT.BRep2</td>\n",
       "      <td>isolate_01</td>\n",
       "      <td>24HR</td>\n",
       "      <td>UT</td>\n",
       "      <td>BRep2</td>\n",
       "      <td>0.125177</td>\n",
       "      <td>-1.462758</td>\n",
       "      <td>-1.888105</td>\n",
       "      <td>-0.828352</td>\n",
       "      <td>-1.410803</td>\n",
       "      <td>...</td>\n",
       "      <td>-0.659519</td>\n",
       "      <td>-5.011207</td>\n",
       "      <td>-0.559471</td>\n",
       "      <td>-2.266763</td>\n",
       "      <td>-5.289318</td>\n",
       "      <td>-2.949869</td>\n",
       "      <td>-2.206432</td>\n",
       "      <td>-4.324299</td>\n",
       "      <td>-1.735312</td>\n",
       "      <td>2.177</td>\n",
       "    </tr>\n",
       "    <tr>\n",
       "      <th>4</th>\n",
       "      <td>isolate_01.6HR.DHA.BRep1</td>\n",
       "      <td>isolate_01</td>\n",
       "      <td>6HR</td>\n",
       "      <td>DHA</td>\n",
       "      <td>BRep1</td>\n",
       "      <td>1.354956</td>\n",
       "      <td>-2.139128</td>\n",
       "      <td>-0.541696</td>\n",
       "      <td>-1.481881</td>\n",
       "      <td>-0.735798</td>\n",
       "      <td>...</td>\n",
       "      <td>-1.687048</td>\n",
       "      <td>-4.773306</td>\n",
       "      <td>-0.048847</td>\n",
       "      <td>-2.023727</td>\n",
       "      <td>-4.398358</td>\n",
       "      <td>-3.080500</td>\n",
       "      <td>-0.566545</td>\n",
       "      <td>-4.798190</td>\n",
       "      <td>-0.821690</td>\n",
       "      <td>2.177</td>\n",
       "    </tr>\n",
       "  </tbody>\n",
       "</table>\n",
       "<p>5 rows × 5546 columns</p>\n",
       "</div>"
      ],
      "text/plain": [
       "                 Sample_Name     Isolate Timepoint Treatment BioRep  \\\n",
       "0  isolate_01.24HR.DHA.BRep1  isolate_01      24HR       DHA  BRep1   \n",
       "1  isolate_01.24HR.DHA.BRep2  isolate_01      24HR       DHA  BRep2   \n",
       "2   isolate_01.24HR.UT.BRep1  isolate_01      24HR        UT  BRep1   \n",
       "3   isolate_01.24HR.UT.BRep2  isolate_01      24HR        UT  BRep2   \n",
       "4   isolate_01.6HR.DHA.BRep1  isolate_01       6HR       DHA  BRep1   \n",
       "\n",
       "   MAL1.465720.465873.bc..rv..  MAL1.48287.48430....kr...can  \\\n",
       "0                     0.008286                     -0.959492   \n",
       "1                    -0.872028                     -1.968558   \n",
       "2                     0.039480                     -1.291371   \n",
       "3                     0.125177                     -1.462758   \n",
       "4                     1.354956                     -2.139128   \n",
       "\n",
       "   MAL1.562126.562246.bc..r...  MAL1.59416.59687....kr...can  \\\n",
       "0                     0.206468                     -0.443936   \n",
       "1                    -2.308563                     -1.186611   \n",
       "2                    -0.946661                     -0.538092   \n",
       "3                    -1.888105                     -0.828352   \n",
       "4                    -0.541696                     -1.481881   \n",
       "\n",
       "   MAL1.616633.616682.......y.    ...     PF3D7_1479200  PF3D7_1479400  \\\n",
       "0                     0.453030    ...         -0.540993      -3.674097   \n",
       "1                     0.508575    ...          0.450649      -4.464408   \n",
       "2                    -1.778501    ...          1.411557      -5.500522   \n",
       "3                    -1.410803    ...         -0.659519      -5.011207   \n",
       "4                    -0.735798    ...         -1.687048      -4.773306   \n",
       "\n",
       "   PF3D7_1479500  PF3D7_1479600  PF3D7_1479700  PF3D7_1479800  PF3D7_1479900  \\\n",
       "0      -1.652979      -2.255490      -4.554757      -0.381422      -1.415857   \n",
       "1      -0.977954      -2.012559      -4.538550      -2.333890      -2.342496   \n",
       "2      -1.764229      -1.947208      -5.331037      -0.814417      -2.141285   \n",
       "3      -0.559471      -2.266763      -5.289318      -2.949869      -2.206432   \n",
       "4      -0.048847      -2.023727      -4.398358      -3.080500      -0.566545   \n",
       "\n",
       "   PF3D7_1480000  PF3D7_1480100  DHA_IC50  \n",
       "0      -4.121011      -2.486528     2.177  \n",
       "1      -4.774197      -1.794568     2.177  \n",
       "2      -3.922684      -2.495169     2.177  \n",
       "3      -4.324299      -1.735312     2.177  \n",
       "4      -4.798190      -0.821690     2.177  \n",
       "\n",
       "[5 rows x 5546 columns]"
      ]
     },
     "execution_count": 59,
     "metadata": {},
     "output_type": "execute_result"
    }
   ],
   "source": [
    "train_full = pd.read_csv(\"SubCh1_TrainingData.csv\")\n",
    "test_full = pd.read_csv(\"SubCh1_TestData.csv\")\n",
    "print(train_full.shape)\n",
    "train_full.head()"
   ]
  },
  {
   "cell_type": "code",
   "execution_count": 61,
   "metadata": {},
   "outputs": [
    {
     "name": "stdout",
     "output_type": "stream",
     "text": [
      "['isolate_01' 'isolate_02' 'isolate_03' 'isolate_04' 'isolate_05'\n",
      " 'isolate_06' 'isolate_07' 'isolate_08' 'isolate_09' 'isolate_10'\n",
      " 'isolate_11' 'isolate_12' 'isolate_13' 'isolate_14' 'isolate_15'\n",
      " 'isolate_16' 'isolate_17' 'isolate_18' 'isolate_19' 'isolate_20'\n",
      " 'isolate_21' 'isolate_22' 'isolate_23' 'isolate_24' 'isolate_25'\n",
      " 'isolate_26' 'isolate_27' 'isolate_28' 'isolate_29' 'isolate_30']\n",
      "['24HR' '6HR']\n",
      "['DHA' 'UT']\n",
      "['BRep1' 'BRep2' 'BRep3' 'BRep4' 'BRep5' 'BRep6' 'BRep7' 'BRep8']\n"
     ]
    }
   ],
   "source": [
    "# explore the values: number of isolates, treatement times, treatment types, and reps\n",
    "columns = ['Isolate', 'Timepoint', 'Treatment', 'BioRep']\n",
    "for i in train_full[columns]:\n",
    "    print(train_full[i].unique())    "
   ]
  },
  {
   "cell_type": "markdown",
   "metadata": {},
   "source": [
    "***Dataset contains: 30 isolates, 2 timepoints, 2 treatement types (DHA and untreated), and some samples have 8 bioreps***"
   ]
  },
  {
   "cell_type": "markdown",
   "metadata": {},
   "source": [
    "### Explore target distribution and variable relationship to target"
   ]
  },
  {
   "cell_type": "code",
   "execution_count": 62,
   "metadata": {},
   "outputs": [
    {
     "name": "stdout",
     "output_type": "stream",
     "text": [
      "(272, 1)\n",
      "(272, 5545)\n"
     ]
    },
    {
     "data": {
      "text/html": [
       "<div>\n",
       "<style scoped>\n",
       "    .dataframe tbody tr th:only-of-type {\n",
       "        vertical-align: middle;\n",
       "    }\n",
       "\n",
       "    .dataframe tbody tr th {\n",
       "        vertical-align: top;\n",
       "    }\n",
       "\n",
       "    .dataframe thead th {\n",
       "        text-align: right;\n",
       "    }\n",
       "</style>\n",
       "<table border=\"1\" class=\"dataframe\">\n",
       "  <thead>\n",
       "    <tr style=\"text-align: right;\">\n",
       "      <th></th>\n",
       "      <th>Isolate</th>\n",
       "      <th>Timepoint</th>\n",
       "      <th>Treatment</th>\n",
       "      <th>BioRep</th>\n",
       "      <th>MAL1.465720.465873.bc..rv..</th>\n",
       "      <th>MAL1.48287.48430....kr...can</th>\n",
       "      <th>MAL1.562126.562246.bc..r...</th>\n",
       "      <th>MAL1.59416.59687....kr...can</th>\n",
       "      <th>MAL1.616633.616682.......y.</th>\n",
       "      <th>MAL10.1139073.1139243....kr</th>\n",
       "      <th>...</th>\n",
       "      <th>PF3D7_1479200</th>\n",
       "      <th>PF3D7_1479400</th>\n",
       "      <th>PF3D7_1479500</th>\n",
       "      <th>PF3D7_1479600</th>\n",
       "      <th>PF3D7_1479700</th>\n",
       "      <th>PF3D7_1479800</th>\n",
       "      <th>PF3D7_1479900</th>\n",
       "      <th>PF3D7_1480000</th>\n",
       "      <th>PF3D7_1480100</th>\n",
       "      <th>DHA_IC50</th>\n",
       "    </tr>\n",
       "  </thead>\n",
       "  <tbody>\n",
       "    <tr>\n",
       "      <th>0</th>\n",
       "      <td>1</td>\n",
       "      <td>1</td>\n",
       "      <td>1</td>\n",
       "      <td>1</td>\n",
       "      <td>0.008286</td>\n",
       "      <td>-0.959492</td>\n",
       "      <td>0.206468</td>\n",
       "      <td>-0.443936</td>\n",
       "      <td>0.453030</td>\n",
       "      <td>0.291222</td>\n",
       "      <td>...</td>\n",
       "      <td>-0.540993</td>\n",
       "      <td>-3.674097</td>\n",
       "      <td>-1.652979</td>\n",
       "      <td>-2.255490</td>\n",
       "      <td>-4.554757</td>\n",
       "      <td>-0.381422</td>\n",
       "      <td>-1.415857</td>\n",
       "      <td>-4.121011</td>\n",
       "      <td>-2.486528</td>\n",
       "      <td>2.177</td>\n",
       "    </tr>\n",
       "    <tr>\n",
       "      <th>1</th>\n",
       "      <td>1</td>\n",
       "      <td>1</td>\n",
       "      <td>1</td>\n",
       "      <td>2</td>\n",
       "      <td>-0.872028</td>\n",
       "      <td>-1.968558</td>\n",
       "      <td>-2.308563</td>\n",
       "      <td>-1.186611</td>\n",
       "      <td>0.508575</td>\n",
       "      <td>-0.368476</td>\n",
       "      <td>...</td>\n",
       "      <td>0.450649</td>\n",
       "      <td>-4.464408</td>\n",
       "      <td>-0.977954</td>\n",
       "      <td>-2.012559</td>\n",
       "      <td>-4.538550</td>\n",
       "      <td>-2.333890</td>\n",
       "      <td>-2.342496</td>\n",
       "      <td>-4.774197</td>\n",
       "      <td>-1.794568</td>\n",
       "      <td>2.177</td>\n",
       "    </tr>\n",
       "    <tr>\n",
       "      <th>2</th>\n",
       "      <td>1</td>\n",
       "      <td>1</td>\n",
       "      <td>0</td>\n",
       "      <td>1</td>\n",
       "      <td>0.039480</td>\n",
       "      <td>-1.291371</td>\n",
       "      <td>-0.946661</td>\n",
       "      <td>-0.538092</td>\n",
       "      <td>-1.778501</td>\n",
       "      <td>1.037573</td>\n",
       "      <td>...</td>\n",
       "      <td>1.411557</td>\n",
       "      <td>-5.500522</td>\n",
       "      <td>-1.764229</td>\n",
       "      <td>-1.947208</td>\n",
       "      <td>-5.331037</td>\n",
       "      <td>-0.814417</td>\n",
       "      <td>-2.141285</td>\n",
       "      <td>-3.922684</td>\n",
       "      <td>-2.495169</td>\n",
       "      <td>2.177</td>\n",
       "    </tr>\n",
       "    <tr>\n",
       "      <th>3</th>\n",
       "      <td>1</td>\n",
       "      <td>1</td>\n",
       "      <td>0</td>\n",
       "      <td>2</td>\n",
       "      <td>0.125177</td>\n",
       "      <td>-1.462758</td>\n",
       "      <td>-1.888105</td>\n",
       "      <td>-0.828352</td>\n",
       "      <td>-1.410803</td>\n",
       "      <td>0.926191</td>\n",
       "      <td>...</td>\n",
       "      <td>-0.659519</td>\n",
       "      <td>-5.011207</td>\n",
       "      <td>-0.559471</td>\n",
       "      <td>-2.266763</td>\n",
       "      <td>-5.289318</td>\n",
       "      <td>-2.949869</td>\n",
       "      <td>-2.206432</td>\n",
       "      <td>-4.324299</td>\n",
       "      <td>-1.735312</td>\n",
       "      <td>2.177</td>\n",
       "    </tr>\n",
       "    <tr>\n",
       "      <th>4</th>\n",
       "      <td>1</td>\n",
       "      <td>0</td>\n",
       "      <td>1</td>\n",
       "      <td>1</td>\n",
       "      <td>1.354956</td>\n",
       "      <td>-2.139128</td>\n",
       "      <td>-0.541696</td>\n",
       "      <td>-1.481881</td>\n",
       "      <td>-0.735798</td>\n",
       "      <td>-0.129961</td>\n",
       "      <td>...</td>\n",
       "      <td>-1.687048</td>\n",
       "      <td>-4.773306</td>\n",
       "      <td>-0.048847</td>\n",
       "      <td>-2.023727</td>\n",
       "      <td>-4.398358</td>\n",
       "      <td>-3.080500</td>\n",
       "      <td>-0.566545</td>\n",
       "      <td>-4.798190</td>\n",
       "      <td>-0.821690</td>\n",
       "      <td>2.177</td>\n",
       "    </tr>\n",
       "  </tbody>\n",
       "</table>\n",
       "<p>5 rows × 5545 columns</p>\n",
       "</div>"
      ],
      "text/plain": [
       "   Isolate  Timepoint  Treatment  BioRep  MAL1.465720.465873.bc..rv..  \\\n",
       "0        1          1          1       1                     0.008286   \n",
       "1        1          1          1       2                    -0.872028   \n",
       "2        1          1          0       1                     0.039480   \n",
       "3        1          1          0       2                     0.125177   \n",
       "4        1          0          1       1                     1.354956   \n",
       "\n",
       "   MAL1.48287.48430....kr...can  MAL1.562126.562246.bc..r...  \\\n",
       "0                     -0.959492                     0.206468   \n",
       "1                     -1.968558                    -2.308563   \n",
       "2                     -1.291371                    -0.946661   \n",
       "3                     -1.462758                    -1.888105   \n",
       "4                     -2.139128                    -0.541696   \n",
       "\n",
       "   MAL1.59416.59687....kr...can  MAL1.616633.616682.......y.  \\\n",
       "0                     -0.443936                     0.453030   \n",
       "1                     -1.186611                     0.508575   \n",
       "2                     -0.538092                    -1.778501   \n",
       "3                     -0.828352                    -1.410803   \n",
       "4                     -1.481881                    -0.735798   \n",
       "\n",
       "   MAL10.1139073.1139243....kr    ...     PF3D7_1479200  PF3D7_1479400  \\\n",
       "0                     0.291222    ...         -0.540993      -3.674097   \n",
       "1                    -0.368476    ...          0.450649      -4.464408   \n",
       "2                     1.037573    ...          1.411557      -5.500522   \n",
       "3                     0.926191    ...         -0.659519      -5.011207   \n",
       "4                    -0.129961    ...         -1.687048      -4.773306   \n",
       "\n",
       "   PF3D7_1479500  PF3D7_1479600  PF3D7_1479700  PF3D7_1479800  PF3D7_1479900  \\\n",
       "0      -1.652979      -2.255490      -4.554757      -0.381422      -1.415857   \n",
       "1      -0.977954      -2.012559      -4.538550      -2.333890      -2.342496   \n",
       "2      -1.764229      -1.947208      -5.331037      -0.814417      -2.141285   \n",
       "3      -0.559471      -2.266763      -5.289318      -2.949869      -2.206432   \n",
       "4      -0.048847      -2.023727      -4.398358      -3.080500      -0.566545   \n",
       "\n",
       "   PF3D7_1480000  PF3D7_1480100  DHA_IC50  \n",
       "0      -4.121011      -2.486528     2.177  \n",
       "1      -4.774197      -1.794568     2.177  \n",
       "2      -3.922684      -2.495169     2.177  \n",
       "3      -4.324299      -1.735312     2.177  \n",
       "4      -4.798190      -0.821690     2.177  \n",
       "\n",
       "[5 rows x 5545 columns]"
      ]
     },
     "execution_count": 62,
     "metadata": {},
     "output_type": "execute_result"
    }
   ],
   "source": [
    "#convert values to int type, drop unnecessary columns\n",
    "train_full['Timepoint'] = [1 if i == '24HR' else 0 for i in train_full['Timepoint']]\n",
    "train_full['Treatment'] = [1 if i == 'DHA' else 0 for i in train_full['Treatment']]\n",
    "train_full['BioRep'] = [int(i[-1]) for i in train_full['BioRep']]\n",
    "train_full['Isolate'] = [int(i[-2:]) for i in train_full['Isolate']]\n",
    "train_full = train_full.drop(['Sample_Name'], axis = 1)\n",
    "\n",
    "y = train_full[['DHA_IC50']]\n",
    "print(y.shape)\n",
    "print(train_full.shape)\n",
    "\n",
    "train_full.head()"
   ]
  },
  {
   "cell_type": "code",
   "execution_count": 63,
   "metadata": {},
   "outputs": [
    {
     "data": {
      "text/plain": [
       "count    272.000000\n",
       "mean       1.570315\n",
       "std        0.534407\n",
       "min        0.693300\n",
       "25%        1.348000\n",
       "50%        1.582000\n",
       "75%        1.820000\n",
       "max        3.460000\n",
       "Name: DHA_IC50, dtype: float64"
      ]
     },
     "execution_count": 63,
     "metadata": {},
     "output_type": "execute_result"
    }
   ],
   "source": [
    "train_full['DHA_IC50'].describe()"
   ]
  },
  {
   "cell_type": "code",
   "execution_count": 70,
   "metadata": {},
   "outputs": [
    {
     "data": {
      "image/png": "[encoded data removed]",
      "text/plain": [
       "<Figure size 720x360 with 2 Axes>"
      ]
     },
     "metadata": {
      "needs_background": "light"
     },
     "output_type": "display_data"
    }
   ],
   "source": [
    "#what is the distribution of target values?\n",
    "plt.figure(figsize = (10, 5))\n",
    "\n",
    "ax0 = plt.subplot(1, 2, 1)\n",
    "train_full['DHA_IC50'].hist(ax = ax0)\n",
    "ax0.set_title(\"Distribution of DHA_1C50 values\")\n",
    "ax0.set_xlabel(\"DHA_1C50 values\")\n",
    "\n",
    "ax1 = plt.subplot(1, 2, 2)\n",
    "train_full['DHA_IC50'].plot(kind = 'box', ax = ax1)\n",
    "ax1.set_title(\"DHA_1C50 Summary Statistics\");"
   ]
  },
  {
   "cell_type": "code",
   "execution_count": 105,
   "metadata": {},
   "outputs": [
    {
     "data": {
      "image/png": "[encoded data removed]",
      "text/plain": [
       "<Figure size 864x288 with 3 Axes>"
      ]
     },
     "metadata": {
      "needs_background": "light"
     },
     "output_type": "display_data"
    }
   ],
   "source": [
    "#relationship to target\n",
    "sns.pairplot(train_full, x_vars = ['BioRep', 'Isolate', 'Timepoint'], \n",
    "             y_vars = ['DHA_IC50'], height=4, #aspect=6/5\n",
    "            );"
   ]
  },
  {
   "cell_type": "code",
   "execution_count": 81,
   "metadata": {},
   "outputs": [
    {
     "data": {
      "text/plain": [
       "(<matplotlib.axes._subplots.AxesSubplot at 0x1a2b0b5898>,)"
      ]
     },
     "execution_count": 81,
     "metadata": {},
     "output_type": "execute_result"
    },
    {
     "data": {
      "image/png": "[encoded data removed]",
      "text/plain": [
       "<Figure size 720x288 with 1 Axes>"
      ]
     },
     "metadata": {
      "needs_background": "light"
     },
     "output_type": "display_data"
    }
   ],
   "source": [
    "#which isolates have more than 2 bioreps? (aka more than 8 samples per isolate)\n",
    "train_full.groupby('Isolate').BioRep.sum().plot(kind = 'bar', figsize = (10, 4)),"
   ]
  },
  {
   "cell_type": "code",
   "execution_count": 106,
   "metadata": {},
   "outputs": [
    {
     "name": "stdout",
     "output_type": "stream",
     "text": [
      "extra reps: 32\n",
      "% of total 0.12\n"
     ]
    }
   ],
   "source": [
    "#how many extra reps are there compared to the total?\n",
    "\n",
    "# isolates = 30\n",
    "# samples_per_isolate = 8        #(6HR vs. 24HR, DHA vs. UT) X 2 bioreps each\n",
    "# total_samples = 272\n",
    "print(\"extra reps:\", (272 - (30*8)))\n",
    "print(\"% of total\", round(32 / 272, 2))"
   ]
  },
  {
   "cell_type": "code",
   "execution_count": 100,
   "metadata": {},
   "outputs": [
    {
     "data": {
      "text/plain": [
       "array([1.697, 1.348])"
      ]
     },
     "execution_count": 100,
     "metadata": {},
     "output_type": "execute_result"
    }
   ],
   "source": [
    "#what are the DHA_IC50 values for the isolates with extra reps?\n",
    "mask = (train_full['Isolate'] ==2) | (train_full['Isolate'] ==27)\n",
    "train_full[mask]['DHA_IC50'].unique()"
   ]
  },
  {
   "cell_type": "markdown",
   "metadata": {},
   "source": [
    "#### Target variable:\n",
    "- IQR is between 1.348 - 1.82, min = 0.69, outlier = 3.46\n",
    "- The majority of isolates have 2 bioreps, except for:\n",
    "    - Isolate_2 has 4 reps, and Isolate_27 has 8 reps\n",
    "    - Both are within the IQR (isolate_2 is equal to the first quartile)\n",
    "- If for some reason we decided to drop the extra reps in isolate_2 and isolate_27, we would be dropping 12% of the total dataset \n",
    "    "
   ]
  },
  {
   "cell_type": "markdown",
   "metadata": {},
   "source": [
    "## Next Section"
   ]
  },
  {
   "cell_type": "code",
   "execution_count": 107,
   "metadata": {},
   "outputs": [
    {
     "data": {
      "text/plain": [
       "Isolate           -0.218144\n",
       "PF3D7_0108200     -0.152791\n",
       "PF3D7_0201600     -0.138929\n",
       "PF3D7_0832200.1   -0.134475\n",
       "PF3D7_0201500     -0.130164\n",
       "Name: DHA_IC50, dtype: float64"
      ]
     },
     "execution_count": 107,
     "metadata": {},
     "output_type": "execute_result"
    }
   ],
   "source": [
    "train_full.corr()['DHA_IC50'].sort_values().head()"
   ]
  },
  {
   "cell_type": "code",
   "execution_count": 109,
   "metadata": {},
   "outputs": [
    {
     "data": {
      "text/plain": [
       "DHA_IC50                      1.000000\n",
       "MAL13.2801236.2801354...gk    0.135570\n",
       "PF3D7_0521600                 0.132004\n",
       "PF3D7_0523200                 0.129189\n",
       "PF3D7_0421200                 0.118192\n",
       "Name: DHA_IC50, dtype: float64"
      ]
     },
     "execution_count": 109,
     "metadata": {},
     "output_type": "execute_result"
    }
   ],
   "source": [
    "train_full.corr()['DHA_IC50'].sort_values(ascending = False).head()"
   ]
  },
  {
   "cell_type": "code",
   "execution_count": null,
   "metadata": {},
   "outputs": [],
   "source": []
  },
  {
   "cell_type": "code",
   "execution_count": null,
   "metadata": {},
   "outputs": [],
   "source": [
    "#### Spearman's correlation coefficient\n",
    "# - measure of monotonic relationship\n",
    "# - can be used for ordinal variables, less sensitive to outliers\n",
    "# - score of 0 = no monotonic relationship\n",
    "\n",
    "# calculate spearman's correlation\n",
    "\n",
    "# https://machinelearningmastery.com/how-to-use-correlation-to-understand-the-relationship-between-variables/ \n",
    "# https://machinelearningmastery.com/how-to-calculate-nonparametric-rank-correlation-in-python/\n",
    "# https://www.datascience.com/blog/introduction-to-correlation-learn-data-science-tutorials\n",
    "\n",
    "# corr, _ = spearmanr(pred, y_test)\n",
    "# print('Spearmans correlation: %.3f' % corr)\n",
    "# spearmanr(pred, y_test)[0]"
   ]
  },
  {
   "cell_type": "code",
   "execution_count": null,
   "metadata": {},
   "outputs": [],
   "source": []
  },
  {
   "cell_type": "code",
   "execution_count": null,
   "metadata": {},
   "outputs": [],
   "source": []
  }
 ],
 "metadata": {
  "kernelspec": {
   "display_name": "Python [conda env:anaconda3]",
   "language": "python",
   "name": "conda-env-anaconda3-py"
  },
  "language_info": {
   "codemirror_mode": {
    "name": "ipython",
    "version": 3
   },
   "file_extension": ".py",
   "mimetype": "text/x-python",
   "name": "python",
   "nbconvert_exporter": "python",
   "pygments_lexer": "ipython3",
   "version": "3.6.7"
  }
 },
 "nbformat": 4,
 "nbformat_minor": 2
}
