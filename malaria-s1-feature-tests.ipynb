{
 "cells": [
  {
   "cell_type": "code",
   "execution_count": 173,
   "metadata": {
    "collapsed": false
   },
   "outputs": [],
   "source": [
    "import numpy as np\n",
    "import pandas as pd\n",
    "import matplotlib.pyplot as pl\n",
    "from scipy.stats import randint as sp_randint\n",
    "from sklearn.metrics import mean_squared_error\n",
    "from sklearn.model_selection import train_test_split\n",
    "from sklearn.linear_model import LinearRegression\n",
    "from sklearn.linear_model import LogisticRegression\n",
    "from sklearn.svm import SVR\n",
    "from sklearn.tree import DecisionTreeRegressor\n",
    "from sklearn.ensemble import RandomForestRegressor\n",
    "from sklearn.naive_bayes import GaussianNB\n",
    "from sklearn.ensemble import AdaBoostRegressor\n",
    "from lmfit import Model\n",
    "from xgboost import XGBRegressor\n",
    "from collections import OrderedDict\n",
    "from sklearn.model_selection import GridSearchCV\n",
    "from sklearn.model_selection import RandomizedSearchCV\n",
    "from sklearn import neighbors\n",
    "from sklearn.ensemble import GradientBoostingRegressor\n",
    "from sklearn.metrics.pairwise import cosine_similarity\n",
    "from sklearn.preprocessing import StandardScaler\n",
    "from sklearn.decomposition import PCA\n",
    "from sklearn.feature_selection import VarianceThreshold\n",
    "from sklearn.feature_selection import GenericUnivariateSelect\n",
    "from sklearn.feature_selection import mutual_info_regression,f_regression\n",
    "from scipy.stats import spearmanr\n",
    "import seaborn as sns\n",
    "from sklearn.feature_selection import RFE\n",
    "from sklearn.model_selection import cross_val_score\n",
    "\n",
    "pl.style.use('seaborn')\n",
    "pl.rc('font',family='Arial')"
   ]
  },
  {
   "cell_type": "markdown",
   "metadata": {},
   "source": [
    "### Notes:\n",
    "- https://machinelearningmastery.com/feature-selection-machine-learning-python/\n",
    "- https://scikit-learn.org/stable/modules/feature_selection.html\n",
    "- https://towardsdatascience.com/feature-selection-with-pandas-e3690ad8504b"
   ]
  },
  {
   "cell_type": "markdown",
   "metadata": {},
   "source": [
    "## Read in and clean data"
   ]
  },
  {
   "cell_type": "code",
   "execution_count": 121,
   "metadata": {
    "collapsed": false
   },
   "outputs": [],
   "source": [
    "train_data = pd.read_csv(\"SubCh1_TrainingData.csv\")\n",
    "test_data = pd.read_csv(\"SubCh1_TestData.csv\")\n",
    "\n",
    "train_data['Timepoint'] = [1 if i == '24HR' else 0 for i in train_data['Timepoint']]\n",
    "train_data['Treatment'] = [1 if i == 'DHA' else 0 for i in train_data['Treatment']]\n",
    "train_data['BioRep'] = [int(i[-1]) for i in train_data['BioRep']]\n",
    "\n",
    "test_data['Timepoint'] = [1 if i == '24HR' else 0 for i in test_data['Timepoint']]\n",
    "test_data['Treatment'] = [1 if i == 'DHA' else 0 for i in test_data['Treatment']]\n",
    "test_data['BioRep'] = [int(i[-1]) for i in test_data['BioRep']]\n",
    "\n",
    "genes = list(train_data.drop(['DHA_IC50','Sample_Name','Isolate','Timepoint','Treatment','BioRep'], axis=1).columns)"
   ]
  },
  {
   "cell_type": "markdown",
   "metadata": {},
   "source": [
    "### 24h UT only"
   ]
  },
  {
   "cell_type": "code",
   "execution_count": 9,
   "metadata": {
    "collapsed": false
   },
   "outputs": [
    {
     "name": "stdout",
     "output_type": "stream",
     "text": [
      "0.27363277027032273\n",
      "SpearmanrResult(correlation=0.5514543473342585, pvalue=0.006379045603157336)\n"
     ]
    }
   ],
   "source": [
    "X_orig = train_data[(train_data['Treatment']==1)&(train_data['Timepoint'] == 1)].drop(['DHA_IC50','Sample_Name','Isolate','BioRep'], axis=1)\n",
    "Y = train_data[(train_data['Treatment']==1)&(train_data['Timepoint'] == 1)][['DHA_IC50']]\n",
    "X = StandardScaler().fit_transform(X_orig)\n",
    "X_train, X_test , Y_train , Y_test = train_test_split(X,Y,test_size=0.33,random_state=5)\n",
    "\n",
    "np.random.seed(999)\n",
    "forest_model = RandomForestRegressor(max_features=50,n_estimators=100, bootstrap=False,random_state = 999)\n",
    "forest_model.fit(X_train, Y_train.values.ravel())\n",
    "Y_pred = forest_model.predict(X_test)\n",
    "\n",
    "print(forest_model.score(X_test,Y_test))\n",
    "print(spearmanr(Y_test,Y_pred))\n",
    "\n",
    "#importances = list(forest_model.feature_importances_)\n",
    "#feature_list = list(train_data.columns)\n",
    "#feature_importances = [(feature, round(importance, 2)) for feature, importance in zip(feature_list, importances)]\n",
    "#feature_importances = sorted(feature_importances, key = lambda x: x[1], reverse = True)\n",
    "#[print('{:20} Importance: {}'.format(*pair)) for pair in feature_importances];"
   ]
  },
  {
   "cell_type": "markdown",
   "metadata": {},
   "source": [
    "### Drop out by variance in BioRep"
   ]
  },
  {
   "cell_type": "code",
   "execution_count": 68,
   "metadata": {
    "collapsed": true
   },
   "outputs": [],
   "source": [
    "def drop_biorep(X_orig, Y, drop_point):\n",
    "    reps1 = X_orig[(X_orig['BioRep'] == 1)]\n",
    "    reps2 = X_orig[(X_orig['BioRep'] == 2)]\n",
    "    names = []\n",
    "    for i in range(len(genes)):\n",
    "        if np.mean(abs(reps2.values[:,i+3] - reps1.values[:,i+3]))/abs(np.max([reps1.values[:,i+3],reps2.values[:,i+3]])) > drop_point:\n",
    "            names.append(genes[i])\n",
    "    \n",
    "    X_new = X_orig.drop(names,axis=1)\n",
    "\n",
    "    return X_new\n"
   ]
  },
  {
   "cell_type": "code",
   "execution_count": 14,
   "metadata": {
    "collapsed": false
   },
   "outputs": [],
   "source": [
    "X_orig = train_data[(train_data['Treatment']==1)&(train_data['Timepoint'] == 1)].drop(['DHA_IC50','Sample_Name','Isolate'], axis=1)\n",
    "Y = train_data[(train_data['Treatment']==1)&(train_data['Timepoint'] == 1)][['DHA_IC50']]\n",
    "\n",
    "reps1 = X_orig[(X_orig['BioRep'] == 1)]\n",
    "reps2 = X_orig[(X_orig['BioRep'] == 2)]\n",
    "\n",
    "threshold = []\n",
    "accuracy = []\n",
    "mse = []\n",
    "spearman = []\n",
    "num_cols = []\n",
    "\n",
    "for j in np.arange(0.25,0.75,0.05):\n",
    "    drop_point = j\n",
    "    names = []\n",
    "    for i in range(len(genes)):\n",
    "        if np.mean(abs(reps2.values[:,i+3] - reps1.values[:,i+3]))/abs(np.max([reps1.values[:,i+3],reps2.values[:,i+3]])) > drop_point:\n",
    "            names.append(genes[i])\n",
    "    \n",
    "    X_new = X_orig.drop(names,axis=1)\n",
    "    \n",
    "    max_features = min(len(X_new.columns),50)\n",
    "    \n",
    "    X = StandardScaler().fit_transform(X_new)\n",
    "    X_train, X_test , Y_train , Y_test = train_test_split(X,Y,test_size=0.33,random_state=33)\n",
    "\n",
    "    forest_model = RandomForestRegressor(max_features=max_features,n_estimators=100, bootstrap=False,random_state = 999)\n",
    "    forest_model.fit(X_train, Y_train.values.ravel())\n",
    "    Y_pred = forest_model.predict(X_test)\n",
    "    \n",
    "    threshold.append(j)\n",
    "    accuracy.append(forest_model.score(X_test,Y_test))\n",
    "    mse.append(mean_squared_error(Y_test, Y_pred))\n",
    "    spearman.append(spearmanr(Y_test,Y_pred)[0])\n",
    "    num_cols.append(len(X_new.columns))\n",
    "\n",
    "results_var = pd.DataFrame(list(zip(threshold,accuracy,mse,spearman,num_cols)),columns =['threshold', 'accuracy','mse','spearman','num_cols']) "
   ]
  },
  {
   "cell_type": "code",
   "execution_count": 15,
   "metadata": {
    "collapsed": false
   },
   "outputs": [
    {
     "data": {
      "image/png": "[encoded data removed]",
      "text/plain": [
       "<matplotlib.figure.Figure at 0x1a1874ba58>"
      ]
     },
     "metadata": {},
     "output_type": "display_data"
    }
   ],
   "source": [
    "pl.plot(results_var['threshold'],results_var['spearman'])\n",
    "pl.show()"
   ]
  },
  {
   "cell_type": "markdown",
   "metadata": {},
   "source": [
    "### Drop out by cosine similarity"
   ]
  },
  {
   "cell_type": "code",
   "execution_count": 69,
   "metadata": {
    "collapsed": true
   },
   "outputs": [],
   "source": [
    "def drop_cosine(X_orig, Y, drop_point):\n",
    "    reps1 = X_orig[(X_orig['BioRep'] == 1)]\n",
    "    reps2 = X_orig[(X_orig['BioRep'] == 2)]\n",
    "    names = []\n",
    "    for i in range(len(genes)):\n",
    "        if cosine_similarity(reps2.values[:,i+3].reshape(1, -1),reps1.values[:,i+3].reshape(1, -1))[0][0] < drop_point:\n",
    "            names.append(genes[i])\n",
    "    \n",
    "    X_new = X_orig.drop(names,axis=1)\n",
    "\n",
    "    return X_new\n"
   ]
  },
  {
   "cell_type": "code",
   "execution_count": 16,
   "metadata": {
    "collapsed": false
   },
   "outputs": [],
   "source": [
    "X_orig = train_data[(train_data['Treatment']==1)&(train_data['Timepoint'] == 1)].drop(['DHA_IC50','Sample_Name','Isolate'], axis=1)\n",
    "Y = train_data[(train_data['Treatment']==1)&(train_data['Timepoint'] == 1)][['DHA_IC50']]\n",
    "\n",
    "reps1 = X_orig[(X_orig['BioRep'] == 1)]\n",
    "reps2 = X_orig[(X_orig['BioRep'] == 2)]\n",
    "\n",
    "threshold = []\n",
    "accuracy = []\n",
    "mse = []\n",
    "spearman = []\n",
    "num_cols = []\n",
    "\n",
    "for j in np.arange(-0.2,0.95,0.05):\n",
    "    drop_point = j\n",
    "    names = []\n",
    "\n",
    "    for i in range(len(genes)):\n",
    "        if cosine_similarity(reps2.values[:,i+3].reshape(1, -1),reps1.values[:,i+3].reshape(1, -1))[0][0] < drop_point:\n",
    "            names.append(genes[i])\n",
    "    \n",
    "    X_new = X_orig.drop(names,axis=1)\n",
    "    \n",
    "    max_features = min(len(X_new.columns),50)\n",
    "    \n",
    "    X = StandardScaler().fit_transform(X_new)\n",
    "    X_train, X_test , Y_train , Y_test = train_test_split(X,Y,test_size=0.33,random_state=33)\n",
    "\n",
    "    forest_model = RandomForestRegressor(max_features=max_features,n_estimators=100, bootstrap=False,random_state = 999)\n",
    "    forest_model.fit(X_train, Y_train.values.ravel())\n",
    "    Y_pred = forest_model.predict(X_test)\n",
    " \n",
    "    threshold.append(j)\n",
    "    accuracy.append(forest_model.score(X_test,Y_test))\n",
    "    mse.append(mean_squared_error(Y_test, Y_pred))\n",
    "    spearman.append(spearmanr(Y_test,Y_pred)[0])\n",
    "    num_cols.append(len(X_new.columns))\n",
    "\n",
    "results_cos = pd.DataFrame(list(zip(threshold,accuracy,mse,spearman,num_cols)),columns =['threshold', 'accuracy','mse','spearman','num_cols']) "
   ]
  },
  {
   "cell_type": "code",
   "execution_count": 17,
   "metadata": {
    "collapsed": false
   },
   "outputs": [
    {
     "data": {
      "image/png": "[encoded data removed]",
      "text/plain": [
       "<matplotlib.figure.Figure at 0x1a1993b780>"
      ]
     },
     "metadata": {},
     "output_type": "display_data"
    }
   ],
   "source": [
    "pl.plot(results_cos['threshold'],results_cos['spearman'])\n",
    "pl.show()"
   ]
  },
  {
   "cell_type": "markdown",
   "metadata": {},
   "source": [
    "### Drop out by correlation coefficient"
   ]
  },
  {
   "cell_type": "code",
   "execution_count": 18,
   "metadata": {
    "collapsed": false
   },
   "outputs": [
    {
     "name": "stderr",
     "output_type": "stream",
     "text": [
      "/Users/shasha/miniconda3/lib/python3.5/site-packages/numpy/lib/function_base.py:3183: RuntimeWarning: invalid value encountered in true_divide\n",
      "  c /= stddev[:, None]\n",
      "/Users/shasha/miniconda3/lib/python3.5/site-packages/numpy/lib/function_base.py:3184: RuntimeWarning: invalid value encountered in true_divide\n",
      "  c /= stddev[None, :]\n",
      "/Users/shasha/miniconda3/lib/python3.5/site-packages/scipy/stats/_distn_infrastructure.py:879: RuntimeWarning: invalid value encountered in greater\n",
      "  return (self.a < x) & (x < self.b)\n",
      "/Users/shasha/miniconda3/lib/python3.5/site-packages/scipy/stats/_distn_infrastructure.py:879: RuntimeWarning: invalid value encountered in less\n",
      "  return (self.a < x) & (x < self.b)\n",
      "/Users/shasha/miniconda3/lib/python3.5/site-packages/scipy/stats/_distn_infrastructure.py:1821: RuntimeWarning: invalid value encountered in less_equal\n",
      "  cond2 = cond0 & (x <= self.a)\n",
      "/Users/shasha/miniconda3/lib/python3.5/site-packages/numpy/lib/function_base.py:3183: RuntimeWarning: invalid value encountered in true_divide\n",
      "  c /= stddev[:, None]\n",
      "/Users/shasha/miniconda3/lib/python3.5/site-packages/numpy/lib/function_base.py:3184: RuntimeWarning: invalid value encountered in true_divide\n",
      "  c /= stddev[None, :]\n",
      "/Users/shasha/miniconda3/lib/python3.5/site-packages/scipy/stats/_distn_infrastructure.py:879: RuntimeWarning: invalid value encountered in greater\n",
      "  return (self.a < x) & (x < self.b)\n",
      "/Users/shasha/miniconda3/lib/python3.5/site-packages/scipy/stats/_distn_infrastructure.py:879: RuntimeWarning: invalid value encountered in less\n",
      "  return (self.a < x) & (x < self.b)\n",
      "/Users/shasha/miniconda3/lib/python3.5/site-packages/scipy/stats/_distn_infrastructure.py:1821: RuntimeWarning: invalid value encountered in less_equal\n",
      "  cond2 = cond0 & (x <= self.a)\n",
      "/Users/shasha/miniconda3/lib/python3.5/site-packages/numpy/lib/function_base.py:3183: RuntimeWarning: invalid value encountered in true_divide\n",
      "  c /= stddev[:, None]\n",
      "/Users/shasha/miniconda3/lib/python3.5/site-packages/numpy/lib/function_base.py:3184: RuntimeWarning: invalid value encountered in true_divide\n",
      "  c /= stddev[None, :]\n",
      "/Users/shasha/miniconda3/lib/python3.5/site-packages/scipy/stats/_distn_infrastructure.py:879: RuntimeWarning: invalid value encountered in greater\n",
      "  return (self.a < x) & (x < self.b)\n",
      "/Users/shasha/miniconda3/lib/python3.5/site-packages/scipy/stats/_distn_infrastructure.py:879: RuntimeWarning: invalid value encountered in less\n",
      "  return (self.a < x) & (x < self.b)\n",
      "/Users/shasha/miniconda3/lib/python3.5/site-packages/scipy/stats/_distn_infrastructure.py:1821: RuntimeWarning: invalid value encountered in less_equal\n",
      "  cond2 = cond0 & (x <= self.a)\n"
     ]
    }
   ],
   "source": [
    "sub = train_data[(train_data['Timepoint'] == 1) & (train_data['Treatment'] == 1)]\n",
    "X_orig = train_data[(train_data['Treatment']==1)&(train_data['Timepoint'] == 1)].drop(['DHA_IC50','Sample_Name','Isolate'], axis=1)\n",
    "Y = train_data[(train_data['Treatment']==1)&(train_data['Timepoint'] == 1)][['DHA_IC50']]\n",
    "\n",
    "correlations = sub.corr()\n",
    "\n",
    "threshold = []\n",
    "accuracy = []\n",
    "mse = []\n",
    "spearman = []\n",
    "num_cols = []\n",
    "\n",
    "for j in np.arange(0.1,0.55,0.05):\n",
    "    drop_point = j\n",
    "    names = list(correlations[abs(correlations['DHA_IC50'])<drop_point].index)\n",
    "    \n",
    "    X_new = X_orig.drop(names,axis=1)\n",
    "    \n",
    "    max_features = min(len(X_new.columns),50)\n",
    "    \n",
    "    X = StandardScaler().fit_transform(X_new)\n",
    "    X_train, X_test , Y_train , Y_test = train_test_split(X,Y,test_size=0.33,random_state=33)\n",
    "\n",
    "    forest_model = RandomForestRegressor(max_features=max_features,n_estimators=100, bootstrap=False,random_state = 999)\n",
    "    forest_model.fit(X_train, Y_train.values.ravel())\n",
    "    Y_pred = forest_model.predict(X_test)\n",
    " \n",
    "    threshold.append(j)\n",
    "    accuracy.append(forest_model.score(X_test,Y_test))\n",
    "    mse.append(mean_squared_error(Y_test, Y_pred))\n",
    "    spearman.append(spearmanr(Y_test,Y_pred)[0])\n",
    "    num_cols.append(len(X_new.columns))\n",
    "\n",
    "results_cor = pd.DataFrame(list(zip(threshold,accuracy,mse,spearman,num_cols)),columns =['threshold', 'accuracy','mse','spearman','num_cols']) "
   ]
  },
  {
   "cell_type": "code",
   "execution_count": 19,
   "metadata": {
    "collapsed": false
   },
   "outputs": [
    {
     "data": {
      "image/png": "[encoded data removed]",
      "text/plain": [
       "<matplotlib.figure.Figure at 0x1a1aac2d30>"
      ]
     },
     "metadata": {},
     "output_type": "display_data"
    }
   ],
   "source": [
    "pl.plot(results_cor['threshold'],results_cor['spearman'])\n",
    "pl.show()"
   ]
  },
  {
   "cell_type": "markdown",
   "metadata": {},
   "source": [
    "### Drop out by spearman correlation coefficient"
   ]
  },
  {
   "cell_type": "code",
   "execution_count": 20,
   "metadata": {
    "collapsed": false
   },
   "outputs": [
    {
     "name": "stderr",
     "output_type": "stream",
     "text": [
      "/Users/shasha/miniconda3/lib/python3.5/site-packages/numpy/lib/function_base.py:3183: RuntimeWarning: invalid value encountered in true_divide\n",
      "  c /= stddev[:, None]\n",
      "/Users/shasha/miniconda3/lib/python3.5/site-packages/numpy/lib/function_base.py:3184: RuntimeWarning: invalid value encountered in true_divide\n",
      "  c /= stddev[None, :]\n",
      "/Users/shasha/miniconda3/lib/python3.5/site-packages/scipy/stats/_distn_infrastructure.py:879: RuntimeWarning: invalid value encountered in greater\n",
      "  return (self.a < x) & (x < self.b)\n",
      "/Users/shasha/miniconda3/lib/python3.5/site-packages/scipy/stats/_distn_infrastructure.py:879: RuntimeWarning: invalid value encountered in less\n",
      "  return (self.a < x) & (x < self.b)\n",
      "/Users/shasha/miniconda3/lib/python3.5/site-packages/scipy/stats/_distn_infrastructure.py:1821: RuntimeWarning: invalid value encountered in less_equal\n",
      "  cond2 = cond0 & (x <= self.a)\n",
      "/Users/shasha/miniconda3/lib/python3.5/site-packages/numpy/lib/function_base.py:3183: RuntimeWarning: invalid value encountered in true_divide\n",
      "  c /= stddev[:, None]\n",
      "/Users/shasha/miniconda3/lib/python3.5/site-packages/numpy/lib/function_base.py:3184: RuntimeWarning: invalid value encountered in true_divide\n",
      "  c /= stddev[None, :]\n",
      "/Users/shasha/miniconda3/lib/python3.5/site-packages/scipy/stats/_distn_infrastructure.py:879: RuntimeWarning: invalid value encountered in greater\n",
      "  return (self.a < x) & (x < self.b)\n",
      "/Users/shasha/miniconda3/lib/python3.5/site-packages/scipy/stats/_distn_infrastructure.py:879: RuntimeWarning: invalid value encountered in less\n",
      "  return (self.a < x) & (x < self.b)\n",
      "/Users/shasha/miniconda3/lib/python3.5/site-packages/scipy/stats/_distn_infrastructure.py:1821: RuntimeWarning: invalid value encountered in less_equal\n",
      "  cond2 = cond0 & (x <= self.a)\n",
      "/Users/shasha/miniconda3/lib/python3.5/site-packages/numpy/lib/function_base.py:3183: RuntimeWarning: invalid value encountered in true_divide\n",
      "  c /= stddev[:, None]\n",
      "/Users/shasha/miniconda3/lib/python3.5/site-packages/numpy/lib/function_base.py:3184: RuntimeWarning: invalid value encountered in true_divide\n",
      "  c /= stddev[None, :]\n",
      "/Users/shasha/miniconda3/lib/python3.5/site-packages/scipy/stats/_distn_infrastructure.py:879: RuntimeWarning: invalid value encountered in greater\n",
      "  return (self.a < x) & (x < self.b)\n",
      "/Users/shasha/miniconda3/lib/python3.5/site-packages/scipy/stats/_distn_infrastructure.py:879: RuntimeWarning: invalid value encountered in less\n",
      "  return (self.a < x) & (x < self.b)\n",
      "/Users/shasha/miniconda3/lib/python3.5/site-packages/scipy/stats/_distn_infrastructure.py:1821: RuntimeWarning: invalid value encountered in less_equal\n",
      "  cond2 = cond0 & (x <= self.a)\n"
     ]
    }
   ],
   "source": [
    "sub = train_data[(train_data['Timepoint'] == 1) & (train_data['Treatment'] == 1)]\n",
    "X_orig = train_data[(train_data['Treatment']==1)&(train_data['Timepoint'] == 1)].drop(['DHA_IC50','Sample_Name','Isolate'], axis=1)\n",
    "Y = train_data[(train_data['Treatment']==1)&(train_data['Timepoint'] == 1)][['DHA_IC50']]\n",
    "\n",
    "correlations = sub.corr(method='spearman')\n",
    "\n",
    "threshold = []\n",
    "accuracy = []\n",
    "mse = []\n",
    "spearman = []\n",
    "num_cols = []\n",
    "\n",
    "for j in np.arange(0.1,0.55,0.05):\n",
    "    drop_point = j\n",
    "    names = list(correlations[abs(correlations['DHA_IC50'])<drop_point].index)\n",
    "    \n",
    "    X_new = X_orig.drop(names,axis=1)\n",
    "    \n",
    "    max_features = min(len(X_new.columns),50)\n",
    "    \n",
    "    X = StandardScaler().fit_transform(X_new)\n",
    "    X_train, X_test , Y_train , Y_test = train_test_split(X,Y,test_size=0.33,random_state=33)\n",
    "\n",
    "    forest_model = RandomForestRegressor(max_features=max_features,n_estimators=100, bootstrap=False,random_state = 999)\n",
    "    forest_model.fit(X_train, Y_train.values.ravel())\n",
    "    Y_pred = forest_model.predict(X_test)\n",
    " \n",
    "    threshold.append(j)\n",
    "    accuracy.append(forest_model.score(X_test,Y_test))\n",
    "    mse.append(mean_squared_error(Y_test, Y_pred))\n",
    "    spearman.append(spearmanr(Y_test,Y_pred)[0])\n",
    "    num_cols.append(len(X_new.columns))\n",
    "\n",
    "results_scor = pd.DataFrame(list(zip(threshold,accuracy,mse,spearman,num_cols)),columns =['threshold', 'accuracy','mse','spearman','num_cols']) "
   ]
  },
  {
   "cell_type": "code",
   "execution_count": 39,
   "metadata": {
    "collapsed": false
   },
   "outputs": [
    {
     "data": {
      "image/png": "[encoded data removed]",
      "text/plain": [
       "<matplotlib.figure.Figure at 0x1a1539aa20>"
      ]
     },
     "metadata": {},
     "output_type": "display_data"
    }
   ],
   "source": [
    "pl.plot(results_scor['threshold'],results_scor['spearman'])\n",
    "pl.show()"
   ]
  },
  {
   "cell_type": "markdown",
   "metadata": {},
   "source": [
    "### PCA"
   ]
  },
  {
   "cell_type": "code",
   "execution_count": 81,
   "metadata": {
    "collapsed": true
   },
   "outputs": [],
   "source": [
    "def drop_pca(X_orig, Y, components):\n",
    "    #X_orig.drop(['BioRep'])\n",
    "    X = StandardScaler().fit_transform(X_orig)\n",
    "    pca = PCA(n_components=components)\n",
    "    principalComponents = pca.fit_transform(X)\n",
    "    X_pca = pd.DataFrame(data = principalComponents)\n",
    "\n",
    "    return X_pca\n"
   ]
  },
  {
   "cell_type": "code",
   "execution_count": 22,
   "metadata": {
    "collapsed": false
   },
   "outputs": [],
   "source": [
    "X_orig = train_data[(train_data['Treatment']==1)&(train_data['Timepoint'] == 1)].drop(['DHA_IC50','Sample_Name','Isolate','BioRep'], axis=1)\n",
    "Y = train_data[(train_data['Treatment']==1)&(train_data['Timepoint'] == 1)][['DHA_IC50']]\n",
    "X = StandardScaler().fit_transform(X_orig)\n",
    "\n",
    "threshold = []\n",
    "accuracy = []\n",
    "mse = []\n",
    "spearman = []\n",
    "num_cols = []\n",
    "\n",
    "for j in np.arange(5,100,5):\n",
    "    pca = PCA(n_components=j)\n",
    "    principalComponents = pca.fit_transform(X)\n",
    "    X_pca = pd.DataFrame(data = principalComponents)\n",
    "    \n",
    "    max_features = min(j,50)\n",
    "\n",
    "    X_train, X_test , Y_train , Y_test = train_test_split(X_pca,Y,test_size=0.33,random_state=5)\n",
    "\n",
    "    forest_model = RandomForestRegressor(max_features=max_features,n_estimators=100, bootstrap=False,random_state = 999)\n",
    "    forest_model.fit(X_train, Y_train.values.ravel())\n",
    "    Y_pred = forest_model.predict(X_test)\n",
    " \n",
    "    threshold.append(j)\n",
    "    accuracy.append(forest_model.score(X_test,Y_test))\n",
    "    mse.append(mean_squared_error(Y_test, Y_pred))\n",
    "    spearman.append(spearmanr(Y_test,Y_pred)[0])\n",
    "    num_cols.append(len(X_new.columns))\n",
    "\n",
    "results_pca = pd.DataFrame(list(zip(threshold,accuracy,mse,spearman,num_cols)),columns =['threshold', 'accuracy','mse','spearman','num_cols']) "
   ]
  },
  {
   "cell_type": "code",
   "execution_count": 29,
   "metadata": {
    "collapsed": false
   },
   "outputs": [
    {
     "data": {
      "image/png": "[encoded data removed]",
      "text/plain": [
       "<matplotlib.figure.Figure at 0x1a187cc198>"
      ]
     },
     "metadata": {},
     "output_type": "display_data"
    }
   ],
   "source": [
    "pl.plot(results_pca['threshold'],results_pca['spearman'])\n",
    "pl.show()"
   ]
  },
  {
   "cell_type": "markdown",
   "metadata": {},
   "source": [
    "### RFE\n",
    "Gave NA values"
   ]
  },
  {
   "cell_type": "code",
   "execution_count": 30,
   "metadata": {
    "collapsed": false
   },
   "outputs": [
    {
     "name": "stdout",
     "output_type": "stream",
     "text": [
      "50\n",
      "[False False False ... False False False]\n",
      "[5493 5492 5490 ... 5475 5479 5483]\n"
     ]
    }
   ],
   "source": [
    "X_orig = train_data[(train_data['Treatment']==1)&(train_data['Timepoint'] == 1)].drop(['DHA_IC50','Sample_Name','Isolate','BioRep'], axis=1)\n",
    "Y = train_data[(train_data['Treatment']==1)&(train_data['Timepoint'] == 1)][['DHA_IC50']]\n",
    "X = StandardScaler().fit_transform(X_orig)\n",
    "\n",
    "max_features = 50\n",
    "\n",
    "forest_model = RandomForestRegressor(max_features=max_features,n_estimators=100, bootstrap=False,random_state = 999)\n",
    "    \n",
    "rfe = RFE(forest_model, max_features)\n",
    "fit = rfe.fit(X, Y.values.ravel())\n",
    "print(fit.n_features_)\n",
    "print(fit.support_)\n",
    "print(fit.ranking_)"
   ]
  },
  {
   "cell_type": "markdown",
   "metadata": {},
   "source": [
    "### Univariate -- f regression"
   ]
  },
  {
   "cell_type": "code",
   "execution_count": 91,
   "metadata": {
    "collapsed": true
   },
   "outputs": [],
   "source": [
    "def drop_univ(X_orig, Y, percentile):\n",
    "    X = StandardScaler().fit_transform(X_orig)\n",
    "    X_uni = GenericUnivariateSelect(f_regression,'percentile', param=percentile).fit_transform(X, Y.values.ravel())\n",
    "    X_uni = pd.DataFrame(data = X_uni)\n",
    "\n",
    "    return X_uni"
   ]
  },
  {
   "cell_type": "code",
   "execution_count": 131,
   "metadata": {
    "collapsed": true
   },
   "outputs": [],
   "source": [
    "def drop_univ_test(X_orig, Y, percentile,X_test):\n",
    "    X = StandardScaler().fit_transform(X_orig)\n",
    "    X_t = StandardScaler().fit_transform(X_test)\n",
    "    uni = GenericUnivariateSelect(f_regression,'percentile', param=percentile)\n",
    "    X_uni = uni.fit_transform(X, Y.values.ravel())\n",
    "    X_uni = pd.DataFrame(data = X_uni)\n",
    "    \n",
    "    X_uni_test = uni.transform(X_t)\n",
    "    X_uni_test = pd.DataFrame(data = X_uni_test)\n",
    "\n",
    "    return X_uni,X_uni_test"
   ]
  },
  {
   "cell_type": "code",
   "execution_count": 31,
   "metadata": {
    "collapsed": false
   },
   "outputs": [
    {
     "name": "stderr",
     "output_type": "stream",
     "text": [
      "/Users/shasha/miniconda3/lib/python3.5/site-packages/sklearn/feature_selection/univariate_selection.py:298: RuntimeWarning: invalid value encountered in true_divide\n",
      "  corr /= X_norms\n",
      "/Users/shasha/miniconda3/lib/python3.5/site-packages/scipy/stats/_distn_infrastructure.py:879: RuntimeWarning: invalid value encountered in greater\n",
      "  return (self.a < x) & (x < self.b)\n",
      "/Users/shasha/miniconda3/lib/python3.5/site-packages/scipy/stats/_distn_infrastructure.py:879: RuntimeWarning: invalid value encountered in less\n",
      "  return (self.a < x) & (x < self.b)\n",
      "/Users/shasha/miniconda3/lib/python3.5/site-packages/scipy/stats/_distn_infrastructure.py:1821: RuntimeWarning: invalid value encountered in less_equal\n",
      "  cond2 = cond0 & (x <= self.a)\n",
      "/Users/shasha/miniconda3/lib/python3.5/site-packages/sklearn/feature_selection/univariate_selection.py:298: RuntimeWarning: invalid value encountered in true_divide\n",
      "  corr /= X_norms\n",
      "/Users/shasha/miniconda3/lib/python3.5/site-packages/scipy/stats/_distn_infrastructure.py:879: RuntimeWarning: invalid value encountered in greater\n",
      "  return (self.a < x) & (x < self.b)\n",
      "/Users/shasha/miniconda3/lib/python3.5/site-packages/scipy/stats/_distn_infrastructure.py:879: RuntimeWarning: invalid value encountered in less\n",
      "  return (self.a < x) & (x < self.b)\n",
      "/Users/shasha/miniconda3/lib/python3.5/site-packages/scipy/stats/_distn_infrastructure.py:1821: RuntimeWarning: invalid value encountered in less_equal\n",
      "  cond2 = cond0 & (x <= self.a)\n",
      "/Users/shasha/miniconda3/lib/python3.5/site-packages/sklearn/feature_selection/univariate_selection.py:298: RuntimeWarning: invalid value encountered in true_divide\n",
      "  corr /= X_norms\n",
      "/Users/shasha/miniconda3/lib/python3.5/site-packages/scipy/stats/_distn_infrastructure.py:879: RuntimeWarning: invalid value encountered in greater\n",
      "  return (self.a < x) & (x < self.b)\n",
      "/Users/shasha/miniconda3/lib/python3.5/site-packages/scipy/stats/_distn_infrastructure.py:879: RuntimeWarning: invalid value encountered in less\n",
      "  return (self.a < x) & (x < self.b)\n",
      "/Users/shasha/miniconda3/lib/python3.5/site-packages/scipy/stats/_distn_infrastructure.py:1821: RuntimeWarning: invalid value encountered in less_equal\n",
      "  cond2 = cond0 & (x <= self.a)\n",
      "/Users/shasha/miniconda3/lib/python3.5/site-packages/sklearn/feature_selection/univariate_selection.py:298: RuntimeWarning: invalid value encountered in true_divide\n",
      "  corr /= X_norms\n",
      "/Users/shasha/miniconda3/lib/python3.5/site-packages/scipy/stats/_distn_infrastructure.py:879: RuntimeWarning: invalid value encountered in greater\n",
      "  return (self.a < x) & (x < self.b)\n",
      "/Users/shasha/miniconda3/lib/python3.5/site-packages/scipy/stats/_distn_infrastructure.py:879: RuntimeWarning: invalid value encountered in less\n",
      "  return (self.a < x) & (x < self.b)\n",
      "/Users/shasha/miniconda3/lib/python3.5/site-packages/scipy/stats/_distn_infrastructure.py:1821: RuntimeWarning: invalid value encountered in less_equal\n",
      "  cond2 = cond0 & (x <= self.a)\n",
      "/Users/shasha/miniconda3/lib/python3.5/site-packages/sklearn/feature_selection/univariate_selection.py:298: RuntimeWarning: invalid value encountered in true_divide\n",
      "  corr /= X_norms\n",
      "/Users/shasha/miniconda3/lib/python3.5/site-packages/scipy/stats/_distn_infrastructure.py:879: RuntimeWarning: invalid value encountered in greater\n",
      "  return (self.a < x) & (x < self.b)\n",
      "/Users/shasha/miniconda3/lib/python3.5/site-packages/scipy/stats/_distn_infrastructure.py:879: RuntimeWarning: invalid value encountered in less\n",
      "  return (self.a < x) & (x < self.b)\n",
      "/Users/shasha/miniconda3/lib/python3.5/site-packages/scipy/stats/_distn_infrastructure.py:1821: RuntimeWarning: invalid value encountered in less_equal\n",
      "  cond2 = cond0 & (x <= self.a)\n",
      "/Users/shasha/miniconda3/lib/python3.5/site-packages/sklearn/feature_selection/univariate_selection.py:298: RuntimeWarning: invalid value encountered in true_divide\n",
      "  corr /= X_norms\n",
      "/Users/shasha/miniconda3/lib/python3.5/site-packages/scipy/stats/_distn_infrastructure.py:879: RuntimeWarning: invalid value encountered in greater\n",
      "  return (self.a < x) & (x < self.b)\n",
      "/Users/shasha/miniconda3/lib/python3.5/site-packages/scipy/stats/_distn_infrastructure.py:879: RuntimeWarning: invalid value encountered in less\n",
      "  return (self.a < x) & (x < self.b)\n",
      "/Users/shasha/miniconda3/lib/python3.5/site-packages/scipy/stats/_distn_infrastructure.py:1821: RuntimeWarning: invalid value encountered in less_equal\n",
      "  cond2 = cond0 & (x <= self.a)\n",
      "/Users/shasha/miniconda3/lib/python3.5/site-packages/sklearn/feature_selection/univariate_selection.py:298: RuntimeWarning: invalid value encountered in true_divide\n",
      "  corr /= X_norms\n",
      "/Users/shasha/miniconda3/lib/python3.5/site-packages/scipy/stats/_distn_infrastructure.py:879: RuntimeWarning: invalid value encountered in greater\n",
      "  return (self.a < x) & (x < self.b)\n",
      "/Users/shasha/miniconda3/lib/python3.5/site-packages/scipy/stats/_distn_infrastructure.py:879: RuntimeWarning: invalid value encountered in less\n",
      "  return (self.a < x) & (x < self.b)\n",
      "/Users/shasha/miniconda3/lib/python3.5/site-packages/scipy/stats/_distn_infrastructure.py:1821: RuntimeWarning: invalid value encountered in less_equal\n",
      "  cond2 = cond0 & (x <= self.a)\n",
      "/Users/shasha/miniconda3/lib/python3.5/site-packages/sklearn/feature_selection/univariate_selection.py:298: RuntimeWarning: invalid value encountered in true_divide\n",
      "  corr /= X_norms\n",
      "/Users/shasha/miniconda3/lib/python3.5/site-packages/scipy/stats/_distn_infrastructure.py:879: RuntimeWarning: invalid value encountered in greater\n",
      "  return (self.a < x) & (x < self.b)\n",
      "/Users/shasha/miniconda3/lib/python3.5/site-packages/scipy/stats/_distn_infrastructure.py:879: RuntimeWarning: invalid value encountered in less\n",
      "  return (self.a < x) & (x < self.b)\n",
      "/Users/shasha/miniconda3/lib/python3.5/site-packages/scipy/stats/_distn_infrastructure.py:1821: RuntimeWarning: invalid value encountered in less_equal\n",
      "  cond2 = cond0 & (x <= self.a)\n",
      "/Users/shasha/miniconda3/lib/python3.5/site-packages/sklearn/feature_selection/univariate_selection.py:298: RuntimeWarning: invalid value encountered in true_divide\n",
      "  corr /= X_norms\n",
      "/Users/shasha/miniconda3/lib/python3.5/site-packages/scipy/stats/_distn_infrastructure.py:879: RuntimeWarning: invalid value encountered in greater\n",
      "  return (self.a < x) & (x < self.b)\n",
      "/Users/shasha/miniconda3/lib/python3.5/site-packages/scipy/stats/_distn_infrastructure.py:879: RuntimeWarning: invalid value encountered in less\n",
      "  return (self.a < x) & (x < self.b)\n",
      "/Users/shasha/miniconda3/lib/python3.5/site-packages/scipy/stats/_distn_infrastructure.py:1821: RuntimeWarning: invalid value encountered in less_equal\n",
      "  cond2 = cond0 & (x <= self.a)\n",
      "/Users/shasha/miniconda3/lib/python3.5/site-packages/sklearn/feature_selection/univariate_selection.py:298: RuntimeWarning: invalid value encountered in true_divide\n",
      "  corr /= X_norms\n",
      "/Users/shasha/miniconda3/lib/python3.5/site-packages/scipy/stats/_distn_infrastructure.py:879: RuntimeWarning: invalid value encountered in greater\n",
      "  return (self.a < x) & (x < self.b)\n",
      "/Users/shasha/miniconda3/lib/python3.5/site-packages/scipy/stats/_distn_infrastructure.py:879: RuntimeWarning: invalid value encountered in less\n",
      "  return (self.a < x) & (x < self.b)\n",
      "/Users/shasha/miniconda3/lib/python3.5/site-packages/scipy/stats/_distn_infrastructure.py:1821: RuntimeWarning: invalid value encountered in less_equal\n",
      "  cond2 = cond0 & (x <= self.a)\n",
      "/Users/shasha/miniconda3/lib/python3.5/site-packages/sklearn/feature_selection/univariate_selection.py:298: RuntimeWarning: invalid value encountered in true_divide\n",
      "  corr /= X_norms\n",
      "/Users/shasha/miniconda3/lib/python3.5/site-packages/scipy/stats/_distn_infrastructure.py:879: RuntimeWarning: invalid value encountered in greater\n",
      "  return (self.a < x) & (x < self.b)\n",
      "/Users/shasha/miniconda3/lib/python3.5/site-packages/scipy/stats/_distn_infrastructure.py:879: RuntimeWarning: invalid value encountered in less\n",
      "  return (self.a < x) & (x < self.b)\n",
      "/Users/shasha/miniconda3/lib/python3.5/site-packages/scipy/stats/_distn_infrastructure.py:1821: RuntimeWarning: invalid value encountered in less_equal\n",
      "  cond2 = cond0 & (x <= self.a)\n",
      "/Users/shasha/miniconda3/lib/python3.5/site-packages/sklearn/feature_selection/univariate_selection.py:298: RuntimeWarning: invalid value encountered in true_divide\n",
      "  corr /= X_norms\n",
      "/Users/shasha/miniconda3/lib/python3.5/site-packages/scipy/stats/_distn_infrastructure.py:879: RuntimeWarning: invalid value encountered in greater\n",
      "  return (self.a < x) & (x < self.b)\n",
      "/Users/shasha/miniconda3/lib/python3.5/site-packages/scipy/stats/_distn_infrastructure.py:879: RuntimeWarning: invalid value encountered in less\n",
      "  return (self.a < x) & (x < self.b)\n",
      "/Users/shasha/miniconda3/lib/python3.5/site-packages/scipy/stats/_distn_infrastructure.py:1821: RuntimeWarning: invalid value encountered in less_equal\n",
      "  cond2 = cond0 & (x <= self.a)\n",
      "/Users/shasha/miniconda3/lib/python3.5/site-packages/sklearn/feature_selection/univariate_selection.py:298: RuntimeWarning: invalid value encountered in true_divide\n",
      "  corr /= X_norms\n",
      "/Users/shasha/miniconda3/lib/python3.5/site-packages/scipy/stats/_distn_infrastructure.py:879: RuntimeWarning: invalid value encountered in greater\n",
      "  return (self.a < x) & (x < self.b)\n",
      "/Users/shasha/miniconda3/lib/python3.5/site-packages/scipy/stats/_distn_infrastructure.py:879: RuntimeWarning: invalid value encountered in less\n",
      "  return (self.a < x) & (x < self.b)\n",
      "/Users/shasha/miniconda3/lib/python3.5/site-packages/scipy/stats/_distn_infrastructure.py:1821: RuntimeWarning: invalid value encountered in less_equal\n",
      "  cond2 = cond0 & (x <= self.a)\n"
     ]
    }
   ],
   "source": [
    "X_orig = train_data[(train_data['Treatment']==1)&(train_data['Timepoint'] == 1)].drop(['DHA_IC50','Sample_Name','Isolate','BioRep'], axis=1)\n",
    "Y = train_data[(train_data['Treatment']==1)&(train_data['Timepoint'] == 1)][['DHA_IC50']]\n",
    "X = StandardScaler().fit_transform(X_orig)\n",
    "\n",
    "threshold = []\n",
    "accuracy = []\n",
    "mse = []\n",
    "spearman = []\n",
    "num_cols = []\n",
    "\n",
    "for j in np.arange(5,70,5):\n",
    "    X_uni = GenericUnivariateSelect(f_regression,'percentile', param=j).fit_transform(X, Y.values.ravel())\n",
    "    X_uni = pd.DataFrame(data = X_uni)\n",
    "\n",
    "    max_features = min(len(X_uni.columns),50)\n",
    "\n",
    "    X_train, X_test , Y_train , Y_test = train_test_split(X_uni,Y,test_size=0.33,random_state=5)\n",
    "\n",
    "    forest_model = RandomForestRegressor(max_features=max_features,n_estimators=100, bootstrap=False,random_state = 999)\n",
    "    forest_model.fit(X_train, Y_train.values.ravel())\n",
    "    Y_pred = forest_model.predict(X_test) \n",
    "    \n",
    "    threshold.append(j)\n",
    "    accuracy.append(forest_model.score(X_test,Y_test))\n",
    "    mse.append(mean_squared_error(Y_test, Y_pred))\n",
    "    spearman.append(spearmanr(Y_test,Y_pred)[0])\n",
    "    num_cols.append(len(X_new.columns))\n",
    "\n",
    "results_unif = pd.DataFrame(list(zip(threshold,accuracy,mse,spearman,num_cols)),columns =['threshold', 'accuracy','mse','spearman','num_cols']) "
   ]
  },
  {
   "cell_type": "code",
   "execution_count": 32,
   "metadata": {
    "collapsed": false
   },
   "outputs": [
    {
     "data": {
      "image/png": "[encoded data removed]",
      "text/plain": [
       "<matplotlib.figure.Figure at 0x1a187bc978>"
      ]
     },
     "metadata": {},
     "output_type": "display_data"
    }
   ],
   "source": [
    "pl.plot(results_unif['threshold'],results_unif['spearman'])\n",
    "pl.show()"
   ]
  },
  {
   "cell_type": "markdown",
   "metadata": {},
   "source": [
    "### Univariate -- mutual info regression"
   ]
  },
  {
   "cell_type": "code",
   "execution_count": 35,
   "metadata": {
    "collapsed": false
   },
   "outputs": [],
   "source": [
    "X_orig = train_data[(train_data['Treatment']==1)&(train_data['Timepoint'] == 1)].drop(['DHA_IC50','Sample_Name','Isolate','BioRep'], axis=1)\n",
    "Y = train_data[(train_data['Treatment']==1)&(train_data['Timepoint'] == 1)][['DHA_IC50']]\n",
    "X = StandardScaler().fit_transform(X_orig)\n",
    "\n",
    "threshold = []\n",
    "accuracy = []\n",
    "mse = []\n",
    "spearman = []\n",
    "num_cols = []\n",
    "\n",
    "for j in np.arange(5,70,5):\n",
    "    X_uni = GenericUnivariateSelect(mutual_info_regression,'percentile', param=j).fit_transform(X, Y.values.ravel())\n",
    "    X_uni = pd.DataFrame(data = X_uni)\n",
    "\n",
    "    max_features = min(len(X_uni.columns),50)\n",
    "\n",
    "    X_train, X_test , Y_train , Y_test = train_test_split(X_uni,Y,test_size=0.33,random_state=5)\n",
    "\n",
    "    forest_model = RandomForestRegressor(max_features=max_features,n_estimators=100, bootstrap=False,random_state = 999)\n",
    "    forest_model.fit(X_train, Y_train.values.ravel())\n",
    "    Y_pred = forest_model.predict(X_test) \n",
    "    \n",
    "    threshold.append(j)\n",
    "    accuracy.append(forest_model.score(X_test,Y_test))\n",
    "    mse.append(mean_squared_error(Y_test, Y_pred))\n",
    "    spearman.append(spearmanr(Y_test,Y_pred)[0])\n",
    "    num_cols.append(len(X_new.columns))\n",
    "\n",
    "results_unim = pd.DataFrame(list(zip(threshold,accuracy,mse,spearman,num_cols)),columns =['threshold', 'accuracy','mse','spearman','num_cols']) "
   ]
  },
  {
   "cell_type": "code",
   "execution_count": 37,
   "metadata": {
    "collapsed": false
   },
   "outputs": [
    {
     "data": {
      "image/png": "[encoded data removed]",
      "text/plain": [
       "<matplotlib.figure.Figure at 0x1a1aac2a20>"
      ]
     },
     "metadata": {},
     "output_type": "display_data"
    }
   ],
   "source": [
    "pl.plot(results_unim['threshold'],results_unim['accuracy'])\n",
    "pl.show()"
   ]
  },
  {
   "cell_type": "code",
   "execution_count": 182,
   "metadata": {
    "collapsed": false
   },
   "outputs": [
    {
     "name": "stdout",
     "output_type": "stream",
     "text": [
      "0.32737052032009717\n",
      "SpearmanrResult(correlation=0.6213779651167499, pvalue=0.0015521752048549356)\n",
      "-0.2866013742599176\n"
     ]
    }
   ],
   "source": [
    "X_orig = train_data[(train_data['Treatment']==1)&(train_data['Timepoint'] == 1)].drop(['DHA_IC50','Sample_Name','Isolate'], axis=1)\n",
    "Y = train_data[(train_data['Treatment']==1)&(train_data['Timepoint'] == 1)][['DHA_IC50']]\n",
    "X_predict = test_data[(test_data['Treatment']==1)&(test_data['Timepoint'] == 1)].drop(['Sample_Names','Isolate','DHA_IC50'],axis=1)\n",
    "\n",
    "\n",
    "X_temp = drop_biorep(X_orig,Y,0.75)\n",
    "#X_temp = drop_cosine(X_orig,Y,0.75)\n",
    "\n",
    "X_temp = X_temp.drop(['Treatment','Timepoint','BioRep'],axis=1)\n",
    "X_predict_temp = X_predict[X_temp.columns]\n",
    "\n",
    "#X_new = drop_pca(X_temp,Y,35)\n",
    "#X_new = drop_univ(X_temp,Y,20)\n",
    "X_new, X_predict_new = drop_univ_test(X_temp,Y,20,X_predict_temp)\n",
    "\n",
    "\n",
    "X_train, X_test , Y_train , Y_test = train_test_split(X_new,Y,test_size=0.33,random_state=5)\n",
    "\n",
    "forest_model = RandomForestRegressor(max_features=35,n_estimators=100, bootstrap=False,random_state = 999)\n",
    "forest_model.fit(X_train, Y_train.values.ravel())\n",
    "Y_pred = forest_model.predict(X_test) \n",
    "\n",
    "\n",
    "Y_pred_new = forest_model.predict(X_predict_new)\n",
    "print(forest_model.score(X_test,Y_test))\n",
    "print(spearmanr(Y_test,Y_pred))\n",
    "print(np.mean(cross_val_score(forest_model, X_train, Y_train.values.ravel(), cv=3)))"
   ]
  },
  {
   "cell_type": "code",
   "execution_count": 152,
   "metadata": {
    "collapsed": false
   },
   "outputs": [],
   "source": [
    "predictions = []\n",
    "isolates = []\n",
    "for i in range(int(len(Y_pred_new)/2)):\n",
    "    isolates.append('isolate_'+str(i+31))\n",
    "    predictions.append((Y_pred_new[2*i]+Y_pred_new[2*i+1])/2.)"
   ]
  },
  {
   "cell_type": "code",
   "execution_count": 171,
   "metadata": {
    "collapsed": false
   },
   "outputs": [
    {
     "data": {
      "text/html": [
       "<div>\n",
       "<style scoped>\n",
       "    .dataframe tbody tr th:only-of-type {\n",
       "        vertical-align: middle;\n",
       "    }\n",
       "\n",
       "    .dataframe tbody tr th {\n",
       "        vertical-align: top;\n",
       "    }\n",
       "\n",
       "    .dataframe thead th {\n",
       "        text-align: right;\n",
       "    }\n",
       "</style>\n",
       "<table border=\"1\" class=\"dataframe\">\n",
       "  <thead>\n",
       "    <tr style=\"text-align: right;\">\n",
       "      <th></th>\n",
       "      <th>Isolate</th>\n",
       "      <th>Predicted_IC50</th>\n",
       "    </tr>\n",
       "  </thead>\n",
       "  <tbody>\n",
       "    <tr>\n",
       "      <th>0</th>\n",
       "      <td>isolate_31</td>\n",
       "      <td>1.597706</td>\n",
       "    </tr>\n",
       "    <tr>\n",
       "      <th>1</th>\n",
       "      <td>isolate_32</td>\n",
       "      <td>1.645275</td>\n",
       "    </tr>\n",
       "    <tr>\n",
       "      <th>2</th>\n",
       "      <td>isolate_33</td>\n",
       "      <td>1.418026</td>\n",
       "    </tr>\n",
       "    <tr>\n",
       "      <th>3</th>\n",
       "      <td>isolate_34</td>\n",
       "      <td>1.575640</td>\n",
       "    </tr>\n",
       "    <tr>\n",
       "      <th>4</th>\n",
       "      <td>isolate_35</td>\n",
       "      <td>1.713025</td>\n",
       "    </tr>\n",
       "    <tr>\n",
       "      <th>5</th>\n",
       "      <td>isolate_36</td>\n",
       "      <td>1.605338</td>\n",
       "    </tr>\n",
       "    <tr>\n",
       "      <th>6</th>\n",
       "      <td>isolate_37</td>\n",
       "      <td>1.853349</td>\n",
       "    </tr>\n",
       "    <tr>\n",
       "      <th>7</th>\n",
       "      <td>isolate_38</td>\n",
       "      <td>1.855692</td>\n",
       "    </tr>\n",
       "    <tr>\n",
       "      <th>8</th>\n",
       "      <td>isolate_39</td>\n",
       "      <td>1.793377</td>\n",
       "    </tr>\n",
       "    <tr>\n",
       "      <th>9</th>\n",
       "      <td>isolate_40</td>\n",
       "      <td>1.640084</td>\n",
       "    </tr>\n",
       "    <tr>\n",
       "      <th>10</th>\n",
       "      <td>isolate_41</td>\n",
       "      <td>1.617800</td>\n",
       "    </tr>\n",
       "    <tr>\n",
       "      <th>11</th>\n",
       "      <td>isolate_42</td>\n",
       "      <td>1.660495</td>\n",
       "    </tr>\n",
       "    <tr>\n",
       "      <th>12</th>\n",
       "      <td>isolate_43</td>\n",
       "      <td>1.433350</td>\n",
       "    </tr>\n",
       "    <tr>\n",
       "      <th>13</th>\n",
       "      <td>isolate_44</td>\n",
       "      <td>1.570154</td>\n",
       "    </tr>\n",
       "    <tr>\n",
       "      <th>14</th>\n",
       "      <td>isolate_45</td>\n",
       "      <td>1.514956</td>\n",
       "    </tr>\n",
       "    <tr>\n",
       "      <th>15</th>\n",
       "      <td>isolate_46</td>\n",
       "      <td>1.751651</td>\n",
       "    </tr>\n",
       "    <tr>\n",
       "      <th>16</th>\n",
       "      <td>isolate_47</td>\n",
       "      <td>1.675941</td>\n",
       "    </tr>\n",
       "    <tr>\n",
       "      <th>17</th>\n",
       "      <td>isolate_48</td>\n",
       "      <td>1.595418</td>\n",
       "    </tr>\n",
       "    <tr>\n",
       "      <th>18</th>\n",
       "      <td>isolate_49</td>\n",
       "      <td>1.413862</td>\n",
       "    </tr>\n",
       "    <tr>\n",
       "      <th>19</th>\n",
       "      <td>isolate_50</td>\n",
       "      <td>1.440028</td>\n",
       "    </tr>\n",
       "    <tr>\n",
       "      <th>20</th>\n",
       "      <td>isolate_51</td>\n",
       "      <td>1.527870</td>\n",
       "    </tr>\n",
       "    <tr>\n",
       "      <th>21</th>\n",
       "      <td>isolate_52</td>\n",
       "      <td>1.406900</td>\n",
       "    </tr>\n",
       "    <tr>\n",
       "      <th>22</th>\n",
       "      <td>isolate_53</td>\n",
       "      <td>1.569001</td>\n",
       "    </tr>\n",
       "    <tr>\n",
       "      <th>23</th>\n",
       "      <td>isolate_54</td>\n",
       "      <td>1.744911</td>\n",
       "    </tr>\n",
       "    <tr>\n",
       "      <th>24</th>\n",
       "      <td>isolate_55</td>\n",
       "      <td>1.721271</td>\n",
       "    </tr>\n",
       "  </tbody>\n",
       "</table>\n",
       "</div>"
      ],
      "text/plain": [
       "       Isolate  Predicted_IC50\n",
       "0   isolate_31        1.597706\n",
       "1   isolate_32        1.645275\n",
       "2   isolate_33        1.418026\n",
       "3   isolate_34        1.575640\n",
       "4   isolate_35        1.713025\n",
       "5   isolate_36        1.605338\n",
       "6   isolate_37        1.853349\n",
       "7   isolate_38        1.855692\n",
       "8   isolate_39        1.793377\n",
       "9   isolate_40        1.640084\n",
       "10  isolate_41        1.617800\n",
       "11  isolate_42        1.660495\n",
       "12  isolate_43        1.433350\n",
       "13  isolate_44        1.570154\n",
       "14  isolate_45        1.514956\n",
       "15  isolate_46        1.751651\n",
       "16  isolate_47        1.675941\n",
       "17  isolate_48        1.595418\n",
       "18  isolate_49        1.413862\n",
       "19  isolate_50        1.440028\n",
       "20  isolate_51        1.527870\n",
       "21  isolate_52        1.406900\n",
       "22  isolate_53        1.569001\n",
       "23  isolate_54        1.744911\n",
       "24  isolate_55        1.721271"
      ]
     },
     "execution_count": 171,
     "metadata": {},
     "output_type": "execute_result"
    }
   ],
   "source": [
    "predict = pd.DataFrame(list(zip(isolates,predictions)),columns=['Isolate','Predicted_IC50'])\n",
    "predict.to_csv('SubCh1_SubmissionForm.txt', index=None, header=True,sep=' ', mode='a')\n",
    "predict"
   ]
  },
  {
   "cell_type": "code",
   "execution_count": 96,
   "metadata": {
    "collapsed": false
   },
   "outputs": [
    {
     "name": "stdout",
     "output_type": "stream",
     "text": [
      "0.017931761700243243\n",
      "SpearmanrResult(correlation=0.37490961023803904, pvalue=0.0779548585424521)\n"
     ]
    }
   ],
   "source": [
    "X_orig = train_data[(train_data['Treatment']==1)&(train_data['Timepoint'] == 1)].drop(['DHA_IC50','Sample_Name','Isolate'], axis=1)\n",
    "Y = train_data[(train_data['Treatment']==1)&(train_data['Timepoint'] == 1)][['DHA_IC50']]\n",
    "\n",
    "#X_temp = drop_biorep(X_orig,Y,0.5)\n",
    "X_temp = drop_cosine(X_orig,Y,0.75)\n",
    "\n",
    "X_temp = X_temp.drop(['Treatment','Timepoint','BioRep'],axis=1)\n",
    "\n",
    "#X_new = drop_pca(X_temp,Y,35)\n",
    "X_new = drop_univ(X_temp,Y,55)\n",
    "\n",
    "\n",
    "X_train, X_test , Y_train , Y_test = train_test_split(X_new,Y,test_size=0.33,random_state=5)\n",
    "\n",
    "forest_model = RandomForestRegressor(max_features=35,n_estimators=100, bootstrap=False,random_state = 999)\n",
    "forest_model.fit(X_train, Y_train.values.ravel())\n",
    "Y_pred = forest_model.predict(X_test) \n",
    "\n",
    "print(forest_model.score(X_test,Y_test))\n",
    "print(spearmanr(Y_test,Y_pred))"
   ]
  },
  {
   "cell_type": "code",
   "execution_count": 97,
   "metadata": {
    "collapsed": false
   },
   "outputs": [
    {
     "name": "stdout",
     "output_type": "stream",
     "text": [
      "-1.5638551549707307\n",
      "SpearmanrResult(correlation=0.339699845255366, pvalue=0.11276883288712236)\n"
     ]
    }
   ],
   "source": [
    "X_orig = train_data[(train_data['Treatment']==1)&(train_data['Timepoint'] == 1)].drop(['DHA_IC50','Sample_Name','Isolate'], axis=1)\n",
    "Y = train_data[(train_data['Treatment']==1)&(train_data['Timepoint'] == 1)][['DHA_IC50']]\n",
    "\n",
    "X_temp = drop_biorep(X_orig,Y,0.5)\n",
    "#X_temp = drop_cosine(X_orig,Y,0.75)\n",
    "\n",
    "X_temp = X_temp.drop(['Treatment','Timepoint','BioRep'],axis=1)\n",
    "\n",
    "X_new = drop_pca(X_temp,Y,35)\n",
    "#X_new = drop_univ(X_temp,Y,55)\n",
    "\n",
    "\n",
    "X_train, X_test , Y_train , Y_test = train_test_split(X_new,Y,test_size=0.33,random_state=5)\n",
    "\n",
    "forest_model = RandomForestRegressor(max_features=35,n_estimators=100, bootstrap=False,random_state = 999)\n",
    "forest_model.fit(X_train, Y_train.values.ravel())\n",
    "Y_pred = forest_model.predict(X_test) \n",
    "\n",
    "print(forest_model.score(X_test,Y_test))\n",
    "print(spearmanr(Y_test,Y_pred))"
   ]
  },
  {
   "cell_type": "code",
   "execution_count": 123,
   "metadata": {
    "collapsed": false
   },
   "outputs": [
    {
     "ename": "ValueError",
     "evalue": "Input contains NaN, infinity or a value too large for dtype('float32').",
     "output_type": "error",
     "traceback": [
      "\u001b[0;31m---------------------------------------------------------------------------\u001b[0m",
      "\u001b[0;31mValueError\u001b[0m                                Traceback (most recent call last)",
      "\u001b[0;32m<ipython-input-123-dfd34b14f25f>\u001b[0m in \u001b[0;36m<module>\u001b[0;34m()\u001b[0m\n\u001b[1;32m     16\u001b[0m \u001b[0mforest_model\u001b[0m\u001b[0;34m.\u001b[0m\u001b[0mfit\u001b[0m\u001b[0;34m(\u001b[0m\u001b[0mX_train\u001b[0m\u001b[0;34m,\u001b[0m \u001b[0mY_train\u001b[0m\u001b[0;34m.\u001b[0m\u001b[0mvalues\u001b[0m\u001b[0;34m.\u001b[0m\u001b[0mravel\u001b[0m\u001b[0;34m(\u001b[0m\u001b[0;34m)\u001b[0m\u001b[0;34m)\u001b[0m\u001b[0;34m\u001b[0m\u001b[0m\n\u001b[1;32m     17\u001b[0m \u001b[0mY_pred\u001b[0m \u001b[0;34m=\u001b[0m \u001b[0mforest_model\u001b[0m\u001b[0;34m.\u001b[0m\u001b[0mpredict\u001b[0m\u001b[0;34m(\u001b[0m\u001b[0mX_test\u001b[0m\u001b[0;34m)\u001b[0m\u001b[0;34m\u001b[0m\u001b[0m\n\u001b[0;32m---> 18\u001b[0;31m \u001b[0mY_pred_new\u001b[0m \u001b[0;34m=\u001b[0m \u001b[0mforest_model\u001b[0m\u001b[0;34m.\u001b[0m\u001b[0mpredict\u001b[0m\u001b[0;34m(\u001b[0m\u001b[0mX_predict\u001b[0m\u001b[0;34m)\u001b[0m\u001b[0;34m\u001b[0m\u001b[0m\n\u001b[0m\u001b[1;32m     19\u001b[0m \u001b[0;34m\u001b[0m\u001b[0m\n\u001b[1;32m     20\u001b[0m \u001b[0mprint\u001b[0m\u001b[0;34m(\u001b[0m\u001b[0mforest_model\u001b[0m\u001b[0;34m.\u001b[0m\u001b[0mscore\u001b[0m\u001b[0;34m(\u001b[0m\u001b[0mX_test\u001b[0m\u001b[0;34m,\u001b[0m\u001b[0mY_test\u001b[0m\u001b[0;34m)\u001b[0m\u001b[0;34m)\u001b[0m\u001b[0;34m\u001b[0m\u001b[0m\n",
      "\u001b[0;32m/Users/shasha/miniconda3/lib/python3.5/site-packages/sklearn/ensemble/forest.py\u001b[0m in \u001b[0;36mpredict\u001b[0;34m(self, X)\u001b[0m\n\u001b[1;32m    679\u001b[0m         \u001b[0mcheck_is_fitted\u001b[0m\u001b[0;34m(\u001b[0m\u001b[0mself\u001b[0m\u001b[0;34m,\u001b[0m \u001b[0;34m'estimators_'\u001b[0m\u001b[0;34m)\u001b[0m\u001b[0;34m\u001b[0m\u001b[0m\n\u001b[1;32m    680\u001b[0m         \u001b[0;31m# Check data\u001b[0m\u001b[0;34m\u001b[0m\u001b[0;34m\u001b[0m\u001b[0m\n\u001b[0;32m--> 681\u001b[0;31m         \u001b[0mX\u001b[0m \u001b[0;34m=\u001b[0m \u001b[0mself\u001b[0m\u001b[0;34m.\u001b[0m\u001b[0m_validate_X_predict\u001b[0m\u001b[0;34m(\u001b[0m\u001b[0mX\u001b[0m\u001b[0;34m)\u001b[0m\u001b[0;34m\u001b[0m\u001b[0m\n\u001b[0m\u001b[1;32m    682\u001b[0m \u001b[0;34m\u001b[0m\u001b[0m\n\u001b[1;32m    683\u001b[0m         \u001b[0;31m# Assign chunk of trees to jobs\u001b[0m\u001b[0;34m\u001b[0m\u001b[0;34m\u001b[0m\u001b[0m\n",
      "\u001b[0;32m/Users/shasha/miniconda3/lib/python3.5/site-packages/sklearn/ensemble/forest.py\u001b[0m in \u001b[0;36m_validate_X_predict\u001b[0;34m(self, X)\u001b[0m\n\u001b[1;32m    355\u001b[0m                                  \"call `fit` before exploiting the model.\")\n\u001b[1;32m    356\u001b[0m \u001b[0;34m\u001b[0m\u001b[0m\n\u001b[0;32m--> 357\u001b[0;31m         \u001b[0;32mreturn\u001b[0m \u001b[0mself\u001b[0m\u001b[0;34m.\u001b[0m\u001b[0mestimators_\u001b[0m\u001b[0;34m[\u001b[0m\u001b[0;36m0\u001b[0m\u001b[0;34m]\u001b[0m\u001b[0;34m.\u001b[0m\u001b[0m_validate_X_predict\u001b[0m\u001b[0;34m(\u001b[0m\u001b[0mX\u001b[0m\u001b[0;34m,\u001b[0m \u001b[0mcheck_input\u001b[0m\u001b[0;34m=\u001b[0m\u001b[0;32mTrue\u001b[0m\u001b[0;34m)\u001b[0m\u001b[0;34m\u001b[0m\u001b[0m\n\u001b[0m\u001b[1;32m    358\u001b[0m \u001b[0;34m\u001b[0m\u001b[0m\n\u001b[1;32m    359\u001b[0m     \u001b[0;34m@\u001b[0m\u001b[0mproperty\u001b[0m\u001b[0;34m\u001b[0m\u001b[0m\n",
      "\u001b[0;32m/Users/shasha/miniconda3/lib/python3.5/site-packages/sklearn/tree/tree.py\u001b[0m in \u001b[0;36m_validate_X_predict\u001b[0;34m(self, X, check_input)\u001b[0m\n\u001b[1;32m    371\u001b[0m         \u001b[0;34m\"\"\"Validate X whenever one tries to predict, apply, predict_proba\"\"\"\u001b[0m\u001b[0;34m\u001b[0m\u001b[0m\n\u001b[1;32m    372\u001b[0m         \u001b[0;32mif\u001b[0m \u001b[0mcheck_input\u001b[0m\u001b[0;34m:\u001b[0m\u001b[0;34m\u001b[0m\u001b[0m\n\u001b[0;32m--> 373\u001b[0;31m             \u001b[0mX\u001b[0m \u001b[0;34m=\u001b[0m \u001b[0mcheck_array\u001b[0m\u001b[0;34m(\u001b[0m\u001b[0mX\u001b[0m\u001b[0;34m,\u001b[0m \u001b[0mdtype\u001b[0m\u001b[0;34m=\u001b[0m\u001b[0mDTYPE\u001b[0m\u001b[0;34m,\u001b[0m \u001b[0maccept_sparse\u001b[0m\u001b[0;34m=\u001b[0m\u001b[0;34m\"csr\"\u001b[0m\u001b[0;34m)\u001b[0m\u001b[0;34m\u001b[0m\u001b[0m\n\u001b[0m\u001b[1;32m    374\u001b[0m             if issparse(X) and (X.indices.dtype != np.intc or\n\u001b[1;32m    375\u001b[0m                                 X.indptr.dtype != np.intc):\n",
      "\u001b[0;32m/Users/shasha/miniconda3/lib/python3.5/site-packages/sklearn/utils/validation.py\u001b[0m in \u001b[0;36mcheck_array\u001b[0;34m(array, accept_sparse, dtype, order, copy, force_all_finite, ensure_2d, allow_nd, ensure_min_samples, ensure_min_features, warn_on_dtype, estimator)\u001b[0m\n\u001b[1;32m    451\u001b[0m                              % (array.ndim, estimator_name))\n\u001b[1;32m    452\u001b[0m         \u001b[0;32mif\u001b[0m \u001b[0mforce_all_finite\u001b[0m\u001b[0;34m:\u001b[0m\u001b[0;34m\u001b[0m\u001b[0m\n\u001b[0;32m--> 453\u001b[0;31m             \u001b[0m_assert_all_finite\u001b[0m\u001b[0;34m(\u001b[0m\u001b[0marray\u001b[0m\u001b[0;34m)\u001b[0m\u001b[0;34m\u001b[0m\u001b[0m\n\u001b[0m\u001b[1;32m    454\u001b[0m \u001b[0;34m\u001b[0m\u001b[0m\n\u001b[1;32m    455\u001b[0m     \u001b[0mshape_repr\u001b[0m \u001b[0;34m=\u001b[0m \u001b[0m_shape_repr\u001b[0m\u001b[0;34m(\u001b[0m\u001b[0marray\u001b[0m\u001b[0;34m.\u001b[0m\u001b[0mshape\u001b[0m\u001b[0;34m)\u001b[0m\u001b[0;34m\u001b[0m\u001b[0m\n",
      "\u001b[0;32m/Users/shasha/miniconda3/lib/python3.5/site-packages/sklearn/utils/validation.py\u001b[0m in \u001b[0;36m_assert_all_finite\u001b[0;34m(X)\u001b[0m\n\u001b[1;32m     42\u001b[0m             and not np.isfinite(X).all()):\n\u001b[1;32m     43\u001b[0m         raise ValueError(\"Input contains NaN, infinity\"\n\u001b[0;32m---> 44\u001b[0;31m                          \" or a value too large for %r.\" % X.dtype)\n\u001b[0m\u001b[1;32m     45\u001b[0m \u001b[0;34m\u001b[0m\u001b[0m\n\u001b[1;32m     46\u001b[0m \u001b[0;34m\u001b[0m\u001b[0m\n",
      "\u001b[0;31mValueError\u001b[0m: Input contains NaN, infinity or a value too large for dtype('float32')."
     ]
    }
   ],
   "source": [
    "X_orig = train_data[(train_data['Treatment']==1)&(train_data['Timepoint'] == 1)].drop(['DHA_IC50','Sample_Name','Isolate'], axis=1)\n",
    "Y = train_data[(train_data['Treatment']==1)&(train_data['Timepoint'] == 1)][['DHA_IC50']]\n",
    "\n",
    "#X_temp = drop_biorep(X_orig,Y,0.5)\n",
    "X_temp = drop_cosine(X_orig,Y,0.75)\n",
    "X_temp = X_temp.drop(['Treatment','Timepoint','BioRep'],axis=1)\n",
    "\n",
    "X_new = drop_pca(X_temp,Y,35)\n",
    "#X_new = drop_univ(X_temp,Y,55)\n",
    "\n",
    "\n",
    "X_train, X_test , Y_train , Y_test = train_test_split(X_new,Y,test_size=0.33,random_state=5)\n",
    "\n",
    "forest_model = RandomForestRegressor(max_features=35,n_estimators=100, bootstrap=False,random_state = 999)\n",
    "forest_model.fit(X_train, Y_train.values.ravel())\n",
    "Y_pred = forest_model.predict(X_test)\n",
    "\n",
    "print(forest_model.score(X_test,Y_test))\n",
    "print(spearmanr(Y_test,Y_pred))\n"
   ]
  },
  {
   "cell_type": "code",
   "execution_count": 118,
   "metadata": {
    "collapsed": false
   },
   "outputs": [
    {
     "data": {
      "text/html": [
       "<div>\n",
       "<style scoped>\n",
       "    .dataframe tbody tr th:only-of-type {\n",
       "        vertical-align: middle;\n",
       "    }\n",
       "\n",
       "    .dataframe tbody tr th {\n",
       "        vertical-align: top;\n",
       "    }\n",
       "\n",
       "    .dataframe thead th {\n",
       "        text-align: right;\n",
       "    }\n",
       "</style>\n",
       "<table border=\"1\" class=\"dataframe\">\n",
       "  <thead>\n",
       "    <tr style=\"text-align: right;\">\n",
       "      <th></th>\n",
       "      <th>DHA_IC50</th>\n",
       "    </tr>\n",
       "  </thead>\n",
       "  <tbody>\n",
       "    <tr>\n",
       "      <th>count</th>\n",
       "      <td>68.000000</td>\n",
       "    </tr>\n",
       "    <tr>\n",
       "      <th>mean</th>\n",
       "      <td>1.570315</td>\n",
       "    </tr>\n",
       "    <tr>\n",
       "      <th>std</th>\n",
       "      <td>0.537390</td>\n",
       "    </tr>\n",
       "    <tr>\n",
       "      <th>min</th>\n",
       "      <td>0.693300</td>\n",
       "    </tr>\n",
       "    <tr>\n",
       "      <th>25%</th>\n",
       "      <td>1.348000</td>\n",
       "    </tr>\n",
       "    <tr>\n",
       "      <th>50%</th>\n",
       "      <td>1.582000</td>\n",
       "    </tr>\n",
       "    <tr>\n",
       "      <th>75%</th>\n",
       "      <td>1.820000</td>\n",
       "    </tr>\n",
       "    <tr>\n",
       "      <th>max</th>\n",
       "      <td>3.460000</td>\n",
       "    </tr>\n",
       "  </tbody>\n",
       "</table>\n",
       "</div>"
      ],
      "text/plain": [
       "        DHA_IC50\n",
       "count  68.000000\n",
       "mean    1.570315\n",
       "std     0.537390\n",
       "min     0.693300\n",
       "25%     1.348000\n",
       "50%     1.582000\n",
       "75%     1.820000\n",
       "max     3.460000"
      ]
     },
     "execution_count": 118,
     "metadata": {},
     "output_type": "execute_result"
    }
   ],
   "source": [
    "Y.describe()"
   ]
  },
  {
   "cell_type": "code",
   "execution_count": null,
   "metadata": {
    "collapsed": true
   },
   "outputs": [],
   "source": []
  },
  {
   "cell_type": "code",
   "execution_count": null,
   "metadata": {
    "collapsed": true
   },
   "outputs": [],
   "source": []
  },
  {
   "cell_type": "code",
   "execution_count": null,
   "metadata": {
    "collapsed": true
   },
   "outputs": [],
   "source": []
  },
  {
   "cell_type": "markdown",
   "metadata": {},
   "source": [
    "## Pipeline"
   ]
  },
  {
   "cell_type": "code",
   "execution_count": null,
   "metadata": {
    "collapsed": true
   },
   "outputs": [],
   "source": [
    "clf = Pipeline([\n",
    "  ('feature_selection', SelectFromModel(LinearSVC(penalty=\"l1\"))),\n",
    "  ('classification', RandomForestClassifier())\n",
    "])\n",
    "clf.fit(X, y)"
   ]
  },
  {
   "cell_type": "code",
   "execution_count": null,
   "metadata": {
    "collapsed": true
   },
   "outputs": [],
   "source": []
  },
  {
   "cell_type": "code",
   "execution_count": null,
   "metadata": {
    "collapsed": true
   },
   "outputs": [],
   "source": []
  }
 ],
 "metadata": {
  "anaconda-cloud": {},
  "kernelspec": {
   "display_name": "Python [conda env:miniconda3]",
   "language": "python",
   "name": "conda-env-miniconda3-py"
  },
  "language_info": {
   "codemirror_mode": {
    "name": "ipython",
    "version": 3
   },
   "file_extension": ".py",
   "mimetype": "text/x-python",
   "name": "python",
   "nbconvert_exporter": "python",
   "pygments_lexer": "ipython3",
   "version": "3.5.2"
  }
 },
 "nbformat": 4,
 "nbformat_minor": 1
}
